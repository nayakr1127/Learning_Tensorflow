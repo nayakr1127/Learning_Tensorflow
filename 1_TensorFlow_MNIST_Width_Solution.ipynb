{
  "nbformat": 4,
  "nbformat_minor": 0,
  "metadata": {
    "kernelspec": {
      "display_name": "Python [conda env:py3-TF2.0]",
      "language": "python",
      "name": "conda-env-py3-TF2.0-py"
    },
    "language_info": {
      "codemirror_mode": {
        "name": "ipython",
        "version": 3
      },
      "file_extension": ".py",
      "mimetype": "text/x-python",
      "name": "python",
      "nbconvert_exporter": "python",
      "pygments_lexer": "ipython3",
      "version": "3.7.3"
    },
    "colab": {
      "name": "1. TensorFlow_MNIST_Width_Solution.ipynb",
      "provenance": [],
      "collapsed_sections": [],
      "include_colab_link": true
    },
    "widgets": {
      "application/vnd.jupyter.widget-state+json": {
        "9b05122b1c594f348fe9deb8c3e2c008": {
          "model_module": "@jupyter-widgets/controls",
          "model_name": "HBoxModel",
          "state": {
            "_view_name": "HBoxView",
            "_dom_classes": [],
            "_model_name": "HBoxModel",
            "_view_module": "@jupyter-widgets/controls",
            "_model_module_version": "1.5.0",
            "_view_count": null,
            "_view_module_version": "1.5.0",
            "box_style": "",
            "layout": "IPY_MODEL_32201022fbc94d28a19b42afa2cf542a",
            "_model_module": "@jupyter-widgets/controls",
            "children": [
              "IPY_MODEL_806a9c4248b64fd0b4dceddd01238fc4",
              "IPY_MODEL_ba516953464744a5a154bb4f808e6a64"
            ]
          }
        },
        "32201022fbc94d28a19b42afa2cf542a": {
          "model_module": "@jupyter-widgets/base",
          "model_name": "LayoutModel",
          "state": {
            "_view_name": "LayoutView",
            "grid_template_rows": null,
            "right": null,
            "justify_content": null,
            "_view_module": "@jupyter-widgets/base",
            "overflow": null,
            "_model_module_version": "1.2.0",
            "_view_count": null,
            "flex_flow": null,
            "width": null,
            "min_width": null,
            "border": null,
            "align_items": null,
            "bottom": null,
            "_model_module": "@jupyter-widgets/base",
            "top": null,
            "grid_column": null,
            "overflow_y": null,
            "overflow_x": null,
            "grid_auto_flow": null,
            "grid_area": null,
            "grid_template_columns": null,
            "flex": null,
            "_model_name": "LayoutModel",
            "justify_items": null,
            "grid_row": null,
            "max_height": null,
            "align_content": null,
            "visibility": null,
            "align_self": null,
            "height": null,
            "min_height": null,
            "padding": null,
            "grid_auto_rows": null,
            "grid_gap": null,
            "max_width": null,
            "order": null,
            "_view_module_version": "1.2.0",
            "grid_template_areas": null,
            "object_position": null,
            "object_fit": null,
            "grid_auto_columns": null,
            "margin": null,
            "display": null,
            "left": null
          }
        },
        "806a9c4248b64fd0b4dceddd01238fc4": {
          "model_module": "@jupyter-widgets/controls",
          "model_name": "FloatProgressModel",
          "state": {
            "_view_name": "ProgressView",
            "style": "IPY_MODEL_858c866893114b84aa198a757dbc62e6",
            "_dom_classes": [],
            "description": "Dl Completed...: 100%",
            "_model_name": "FloatProgressModel",
            "bar_style": "success",
            "max": 4,
            "_view_module": "@jupyter-widgets/controls",
            "_model_module_version": "1.5.0",
            "value": 4,
            "_view_count": null,
            "_view_module_version": "1.5.0",
            "orientation": "horizontal",
            "min": 0,
            "description_tooltip": null,
            "_model_module": "@jupyter-widgets/controls",
            "layout": "IPY_MODEL_22eb71461aff424594aa215872da13c0"
          }
        },
        "ba516953464744a5a154bb4f808e6a64": {
          "model_module": "@jupyter-widgets/controls",
          "model_name": "HTMLModel",
          "state": {
            "_view_name": "HTMLView",
            "style": "IPY_MODEL_12b371ce746c4e3f973319424f66141f",
            "_dom_classes": [],
            "description": "",
            "_model_name": "HTMLModel",
            "placeholder": "​",
            "_view_module": "@jupyter-widgets/controls",
            "_model_module_version": "1.5.0",
            "value": " 4/4 [00:00&lt;00:00,  4.28 file/s]",
            "_view_count": null,
            "_view_module_version": "1.5.0",
            "description_tooltip": null,
            "_model_module": "@jupyter-widgets/controls",
            "layout": "IPY_MODEL_c8ed939c9a4c4eacb23389783d25a5a2"
          }
        },
        "858c866893114b84aa198a757dbc62e6": {
          "model_module": "@jupyter-widgets/controls",
          "model_name": "ProgressStyleModel",
          "state": {
            "_view_name": "StyleView",
            "_model_name": "ProgressStyleModel",
            "description_width": "initial",
            "_view_module": "@jupyter-widgets/base",
            "_model_module_version": "1.5.0",
            "_view_count": null,
            "_view_module_version": "1.2.0",
            "bar_color": null,
            "_model_module": "@jupyter-widgets/controls"
          }
        },
        "22eb71461aff424594aa215872da13c0": {
          "model_module": "@jupyter-widgets/base",
          "model_name": "LayoutModel",
          "state": {
            "_view_name": "LayoutView",
            "grid_template_rows": null,
            "right": null,
            "justify_content": null,
            "_view_module": "@jupyter-widgets/base",
            "overflow": null,
            "_model_module_version": "1.2.0",
            "_view_count": null,
            "flex_flow": null,
            "width": null,
            "min_width": null,
            "border": null,
            "align_items": null,
            "bottom": null,
            "_model_module": "@jupyter-widgets/base",
            "top": null,
            "grid_column": null,
            "overflow_y": null,
            "overflow_x": null,
            "grid_auto_flow": null,
            "grid_area": null,
            "grid_template_columns": null,
            "flex": null,
            "_model_name": "LayoutModel",
            "justify_items": null,
            "grid_row": null,
            "max_height": null,
            "align_content": null,
            "visibility": null,
            "align_self": null,
            "height": null,
            "min_height": null,
            "padding": null,
            "grid_auto_rows": null,
            "grid_gap": null,
            "max_width": null,
            "order": null,
            "_view_module_version": "1.2.0",
            "grid_template_areas": null,
            "object_position": null,
            "object_fit": null,
            "grid_auto_columns": null,
            "margin": null,
            "display": null,
            "left": null
          }
        },
        "12b371ce746c4e3f973319424f66141f": {
          "model_module": "@jupyter-widgets/controls",
          "model_name": "DescriptionStyleModel",
          "state": {
            "_view_name": "StyleView",
            "_model_name": "DescriptionStyleModel",
            "description_width": "",
            "_view_module": "@jupyter-widgets/base",
            "_model_module_version": "1.5.0",
            "_view_count": null,
            "_view_module_version": "1.2.0",
            "_model_module": "@jupyter-widgets/controls"
          }
        },
        "c8ed939c9a4c4eacb23389783d25a5a2": {
          "model_module": "@jupyter-widgets/base",
          "model_name": "LayoutModel",
          "state": {
            "_view_name": "LayoutView",
            "grid_template_rows": null,
            "right": null,
            "justify_content": null,
            "_view_module": "@jupyter-widgets/base",
            "overflow": null,
            "_model_module_version": "1.2.0",
            "_view_count": null,
            "flex_flow": null,
            "width": null,
            "min_width": null,
            "border": null,
            "align_items": null,
            "bottom": null,
            "_model_module": "@jupyter-widgets/base",
            "top": null,
            "grid_column": null,
            "overflow_y": null,
            "overflow_x": null,
            "grid_auto_flow": null,
            "grid_area": null,
            "grid_template_columns": null,
            "flex": null,
            "_model_name": "LayoutModel",
            "justify_items": null,
            "grid_row": null,
            "max_height": null,
            "align_content": null,
            "visibility": null,
            "align_self": null,
            "height": null,
            "min_height": null,
            "padding": null,
            "grid_auto_rows": null,
            "grid_gap": null,
            "max_width": null,
            "order": null,
            "_view_module_version": "1.2.0",
            "grid_template_areas": null,
            "object_position": null,
            "object_fit": null,
            "grid_auto_columns": null,
            "margin": null,
            "display": null,
            "left": null
          }
        }
      }
    }
  },
  "cells": [
    {
      "cell_type": "markdown",
      "metadata": {
        "id": "view-in-github",
        "colab_type": "text"
      },
      "source": [
        "<a href=\"https://colab.research.google.com/github/nayakr1127/Learning_Tensorflow_2.0/blob/main/1_TensorFlow_MNIST_Width_Solution.ipynb\" target=\"_parent\"><img src=\"https://colab.research.google.com/assets/colab-badge.svg\" alt=\"Open In Colab\"/></a>"
      ]
    },
    {
      "cell_type": "markdown",
      "metadata": {
        "id": "CS0Jhe_z8zP2"
      },
      "source": [
        "# Exercises\n",
        "\n",
        "### 1. The *width* (the hidden layer size) of the algorithm. Try a hidden layer size of 200. How does the validation accuracy of the model change? What about the time it took the algorithm to train? Can you find a hidden layer size that does better?\n",
        "\n",
        "**Solution**\n",
        "\n",
        "Find the variable: \"hidden_layer_size\" and change it to 200.\n",
        "\n",
        "The validation accuracy is significantly higher (as the algorithm with 50 hidden units was too simple of a model).\n",
        "\n",
        "Naturally, it takes the algorithm much longer to train (unless early stopping is triggered too soon).\n",
        "\n",
        "A hidden layer size of 500 (and not only) works even better."
      ]
    },
    {
      "cell_type": "markdown",
      "metadata": {
        "id": "prpCKmsa8zP6"
      },
      "source": [
        "# Deep Neural Network for MNIST Classification\n",
        "\n",
        "We'll apply all the knowledge from the lectures in this section to write a deep neural network. The problem we've chosen is referred to as the \"Hello World\" of deep learning because for most students it is the first deep learning algorithm they see.\n",
        "\n",
        "The dataset is called MNIST and refers to handwritten digit recognition. You can find more about it on Yann LeCun's website (Director of AI Research, Facebook). He is one of the pioneers of what we've been talking about and of more complex approaches that are widely used today, such as covolutional neural networks (CNNs). \n",
        "\n",
        "The dataset provides 70,000 images (28x28 pixels) of handwritten digits (1 digit per image). \n",
        "\n",
        "The goal is to write an algorithm that detects which digit is written. Since there are only 10 digits (0, 1, 2, 3, 4, 5, 6, 7, 8, 9), this is a classification problem with 10 classes. \n",
        "\n",
        "Our goal would be to build a neural network with 2 hidden layers."
      ]
    },
    {
      "cell_type": "markdown",
      "metadata": {
        "id": "o2af6zEF8zP7"
      },
      "source": [
        "## Import the relevant packages"
      ]
    },
    {
      "cell_type": "code",
      "metadata": {
        "id": "9fO43CTb8zP7"
      },
      "source": [
        "import numpy as np\n",
        "import tensorflow as tf\n",
        "\n",
        "# TensorFLow includes a data provider for MNIST that we'll use.\n",
        "# It comes with the tensorflow-datasets module, therefore, if you haven't please install the package using\n",
        "# pip install tensorflow-datasets \n",
        "# or\n",
        "# conda install tensorflow-datasets\n",
        "\n",
        "import tensorflow_datasets as tfds\n",
        "\n",
        "# these datasets will be stored in C:\\Users\\*USERNAME*\\tensorflow_datasets\\...\n",
        "# the first time you download a dataset, it is stored in the respective folder \n",
        "# every other time, it is automatically loading the copy on your computer "
      ],
      "execution_count": 1,
      "outputs": []
    },
    {
      "cell_type": "markdown",
      "metadata": {
        "id": "UXwGE9Bx8zP8"
      },
      "source": [
        "## Data\n",
        "\n",
        "That's where we load and preprocess our data."
      ]
    },
    {
      "cell_type": "code",
      "metadata": {
        "colab": {
          "base_uri": "https://localhost:8080/",
          "height": 216,
          "referenced_widgets": [
            "9b05122b1c594f348fe9deb8c3e2c008",
            "32201022fbc94d28a19b42afa2cf542a",
            "806a9c4248b64fd0b4dceddd01238fc4",
            "ba516953464744a5a154bb4f808e6a64",
            "858c866893114b84aa198a757dbc62e6",
            "22eb71461aff424594aa215872da13c0",
            "12b371ce746c4e3f973319424f66141f",
            "c8ed939c9a4c4eacb23389783d25a5a2"
          ]
        },
        "id": "aauesb5L8zP8",
        "outputId": "fff57bea-fa5b-4c3f-a0f4-67156844ea4f"
      },
      "source": [
        "# remember the comment from above\n",
        "# these datasets will be stored in C:\\Users\\*USERNAME*\\tensorflow_datasets\\...\n",
        "# the first time you download a dataset, it is stored in the respective folder \n",
        "# every other time, it is automatically loading the copy on your computer \n",
        "\n",
        "# tfds.load actually loads a dataset (or downloads and then loads if that's the first time you use it) \n",
        "# in our case, we are interesteed in the MNIST; the name of the dataset is the only mandatory argument\n",
        "# there are other arguments we can specify, which we can find useful\n",
        "# mnist_dataset = tfds.load(name='mnist', as_supervised=True)\n",
        "mnist_dataset, mnist_info = tfds.load(name='mnist', with_info=True, as_supervised=True)\n",
        "# with_info=True will also provide us with a tuple containing information about the version, features, number of samples\n",
        "# we will use this information a bit below and we will store it in mnist_info\n",
        "\n",
        "# as_supervised=True will load the dataset in a 2-tuple structure (input, target) \n",
        "# alternatively, as_supervised=False, would return a dictionary\n",
        "# obviously we prefer to have our inputs and targets separated \n",
        "\n",
        "# once we have loaded the dataset, we can easily extract the training and testing dataset with the built references\n",
        "mnist_train, mnist_test = mnist_dataset['train'], mnist_dataset['test']\n",
        "\n",
        "# by default, TF has training and testing datasets, but no validation sets\n",
        "# thus we must split it on our own\n",
        "\n",
        "# we start by defining the number of validation samples as a % of the train samples\n",
        "# this is also where we make use of mnist_info (we don't have to count the observations)\n",
        "num_validation_samples = 0.1 * mnist_info.splits['train'].num_examples\n",
        "# let's cast this number to an integer, as a float may cause an error along the way\n",
        "num_validation_samples = tf.cast(num_validation_samples, tf.int64)\n",
        "\n",
        "# let's also store the number of test samples in a dedicated variable (instead of using the mnist_info one)\n",
        "num_test_samples = mnist_info.splits['test'].num_examples\n",
        "# once more, we'd prefer an integer (rather than the default float)\n",
        "num_test_samples = tf.cast(num_test_samples, tf.int64)\n",
        "\n",
        "\n",
        "# normally, we would like to scale our data in some way to make the result more numerically stable\n",
        "# in this case we will simply prefer to have inputs between 0 and 1\n",
        "# let's define a function called: scale, that will take an MNIST image and its label\n",
        "def scale(image, label):\n",
        "    # we make sure the value is a float\n",
        "    image = tf.cast(image, tf.float32)\n",
        "    # since the possible values for the inputs are 0 to 255 (256 different shades of grey)\n",
        "    # if we divide each element by 255, we would get the desired result -> all elements will be between 0 and 1 \n",
        "    image /= 255.\n",
        "\n",
        "    return image, label\n",
        "\n",
        "\n",
        "# the method .map() allows us to apply a custom transformation to a given dataset\n",
        "# we have already decided that we will get the validation data from mnist_train, so \n",
        "scaled_train_and_validation_data = mnist_train.map(scale)\n",
        "\n",
        "# finally, we scale and batch the test data\n",
        "# we scale it so it has the same magnitude as the train and validation\n",
        "# there is no need to shuffle it, because we won't be training on the test data\n",
        "# there would be a single batch, equal to the size of the test data\n",
        "test_data = mnist_test.map(scale)\n",
        "\n",
        "\n",
        "# let's also shuffle the data\n",
        "\n",
        "BUFFER_SIZE = 10000\n",
        "# this BUFFER_SIZE parameter is here for cases when we're dealing with enormous datasets\n",
        "# then we can't shuffle the whole dataset in one go because we can't fit it all in memory\n",
        "# so instead TF only stores BUFFER_SIZE samples in memory at a time and shuffles them\n",
        "# if BUFFER_SIZE=1 => no shuffling will actually happen\n",
        "# if BUFFER_SIZE >= num samples => shuffling is uniform\n",
        "# BUFFER_SIZE in between - a computational optimization to approximate uniform shuffling\n",
        "\n",
        "# luckily for us, there is a shuffle method readily available and we just need to specify the buffer size\n",
        "shuffled_train_and_validation_data = scaled_train_and_validation_data.shuffle(BUFFER_SIZE)\n",
        "\n",
        "# once we have scaled and shuffled the data, we can proceed to actually extracting the train and validation\n",
        "# our validation data would be equal to 10% of the training set, which we've already calculated\n",
        "# we use the .take() method to take that many samples\n",
        "# finally, we create a batch with a batch size equal to the total number of validation samples\n",
        "validation_data = shuffled_train_and_validation_data.take(num_validation_samples)\n",
        "\n",
        "# similarly, the train_data is everything else, so we skip as many samples as there are in the validation dataset\n",
        "train_data = shuffled_train_and_validation_data.skip(num_validation_samples)\n",
        "\n",
        "# determine the batch size\n",
        "BATCH_SIZE = 100\n",
        "\n",
        "# we can also take advantage of the occasion to batch the train data\n",
        "# this would be very helpful when we train, as we would be able to iterate over the different batches\n",
        "train_data = train_data.batch(BATCH_SIZE)\n",
        "\n",
        "validation_data = validation_data.batch(num_validation_samples)\n",
        "\n",
        "# batch the test data\n",
        "test_data = test_data.batch(num_test_samples)\n",
        "\n",
        "\n",
        "# takes next batch (it is the only batch)\n",
        "# because as_supervized=True, we've got a 2-tuple structure\n",
        "validation_inputs, validation_targets = next(iter(validation_data))"
      ],
      "execution_count": 2,
      "outputs": [
        {
          "output_type": "stream",
          "text": [
            "\u001b[1mDownloading and preparing dataset mnist/3.0.1 (download: 11.06 MiB, generated: 21.00 MiB, total: 32.06 MiB) to /root/tensorflow_datasets/mnist/3.0.1...\u001b[0m\n"
          ],
          "name": "stdout"
        },
        {
          "output_type": "stream",
          "text": [
            "WARNING:absl:Dataset mnist is hosted on GCS. It will automatically be downloaded to your\n",
            "local data directory. If you'd instead prefer to read directly from our public\n",
            "GCS bucket (recommended if you're running on GCP), you can instead pass\n",
            "`try_gcs=True` to `tfds.load` or set `data_dir=gs://tfds-data/datasets`.\n",
            "\n"
          ],
          "name": "stderr"
        },
        {
          "output_type": "display_data",
          "data": {
            "application/vnd.jupyter.widget-view+json": {
              "model_id": "9b05122b1c594f348fe9deb8c3e2c008",
              "version_minor": 0,
              "version_major": 2
            },
            "text/plain": [
              "HBox(children=(FloatProgress(value=0.0, description='Dl Completed...', max=4.0, style=ProgressStyle(descriptio…"
            ]
          },
          "metadata": {
            "tags": []
          }
        },
        {
          "output_type": "stream",
          "text": [
            "\n",
            "\n",
            "\u001b[1mDataset mnist downloaded and prepared to /root/tensorflow_datasets/mnist/3.0.1. Subsequent calls will reuse this data.\u001b[0m\n"
          ],
          "name": "stdout"
        }
      ]
    },
    {
      "cell_type": "markdown",
      "metadata": {
        "id": "rk-CLY128zP9"
      },
      "source": [
        "## Model"
      ]
    },
    {
      "cell_type": "markdown",
      "metadata": {
        "id": "ySm3WWq28zP9"
      },
      "source": [
        "### Outline the model\n",
        "When thinking about a deep learning algorithm, we mostly imagine building the model. So, let's do it :)"
      ]
    },
    {
      "cell_type": "code",
      "metadata": {
        "id": "mgDFix7p8zP9"
      },
      "source": [
        "input_size = 784\n",
        "output_size = 10\n",
        "# Use same hidden layer size for both hidden layers. Not a necessity.\n",
        "hidden_layer_size = 200\n",
        "    \n",
        "# define how the model will look like\n",
        "model = tf.keras.Sequential([\n",
        "    \n",
        "    # the first layer (the input layer)\n",
        "    # each observation is 28x28x1 pixels, therefore it is a tensor of rank 3\n",
        "    # since we don't know CNNs yet, we don't know how to feed such input into our net, so we must flatten the images\n",
        "    # there is a convenient method 'Flatten' that simply takes our 28x28x1 tensor and orders it into a (None,) \n",
        "    # or (28x28x1,) = (784,) vector\n",
        "    # this allows us to actually create a feed forward neural network\n",
        "    tf.keras.layers.Flatten(input_shape=(28, 28, 1)), # input layer\n",
        "    \n",
        "    # tf.keras.layers.Dense is basically implementing: output = activation(dot(input, weight) + bias)\n",
        "    # it takes several arguments, but the most important ones for us are the hidden_layer_size and the activation function\n",
        "    tf.keras.layers.Dense(hidden_layer_size, activation='relu'), # 1st hidden layer\n",
        "    tf.keras.layers.Dense(hidden_layer_size, activation='relu'), # 2nd hidden layer\n",
        "    \n",
        "    # the final layer is no different, we just make sure to activate it with softmax\n",
        "    tf.keras.layers.Dense(output_size, activation='softmax') # output layer\n",
        "])"
      ],
      "execution_count": 3,
      "outputs": []
    },
    {
      "cell_type": "markdown",
      "metadata": {
        "id": "pDhKyzj48zP_"
      },
      "source": [
        "### Choose the optimizer and the loss function"
      ]
    },
    {
      "cell_type": "code",
      "metadata": {
        "id": "4gW7vyCc8zP_"
      },
      "source": [
        "# we define the optimizer we'd like to use, \n",
        "# the loss function, \n",
        "# and the metrics we are interested in obtaining at each iteration\n",
        "model.compile(optimizer='adam', loss='sparse_categorical_crossentropy', metrics=['accuracy'])"
      ],
      "execution_count": 4,
      "outputs": []
    },
    {
      "cell_type": "markdown",
      "metadata": {
        "id": "wWk1lPt-8zP_"
      },
      "source": [
        "### Training\n",
        "That's where we train the model we have built."
      ]
    },
    {
      "cell_type": "code",
      "metadata": {
        "colab": {
          "base_uri": "https://localhost:8080/"
        },
        "id": "fTQlFqBT8zQA",
        "outputId": "49fd2efb-b5b8-40f9-fb62-3d70add475db"
      },
      "source": [
        "# determine the maximum number of epochs\n",
        "NUM_EPOCHS = 5\n",
        "\n",
        "# we fit the model, specifying the\n",
        "# training data\n",
        "# the total number of epochs\n",
        "# and the validation data we just created ourselves in the format: (inputs,targets)\n",
        "model.fit(train_data, epochs=NUM_EPOCHS, validation_data=(validation_inputs, validation_targets), verbose =2)"
      ],
      "execution_count": 5,
      "outputs": [
        {
          "output_type": "stream",
          "text": [
            "Epoch 1/5\n",
            "540/540 - 9s - loss: 0.2692 - accuracy: 0.9218 - val_loss: 0.1434 - val_accuracy: 0.9573\n",
            "Epoch 2/5\n",
            "540/540 - 5s - loss: 0.1027 - accuracy: 0.9689 - val_loss: 0.0881 - val_accuracy: 0.9728\n",
            "Epoch 3/5\n",
            "540/540 - 5s - loss: 0.0692 - accuracy: 0.9790 - val_loss: 0.0692 - val_accuracy: 0.9788\n",
            "Epoch 4/5\n",
            "540/540 - 5s - loss: 0.0521 - accuracy: 0.9834 - val_loss: 0.0559 - val_accuracy: 0.9843\n",
            "Epoch 5/5\n",
            "540/540 - 6s - loss: 0.0405 - accuracy: 0.9871 - val_loss: 0.0511 - val_accuracy: 0.9837\n"
          ],
          "name": "stdout"
        },
        {
          "output_type": "execute_result",
          "data": {
            "text/plain": [
              "<tensorflow.python.keras.callbacks.History at 0x7f61a46bd090>"
            ]
          },
          "metadata": {
            "tags": []
          },
          "execution_count": 5
        }
      ]
    },
    {
      "cell_type": "markdown",
      "metadata": {
        "id": "wjeb0fg-8zQA"
      },
      "source": [
        "## Test the model\n",
        "\n",
        "As we discussed in the lectures, after training on the training data and validating on the validation data, we test the final prediction power of our model by running it on the test dataset that the algorithm has NEVER seen before.\n",
        "\n",
        "It is very important to realize that fiddling with the hyperparameters overfits the validation dataset. \n",
        "\n",
        "The test is the absolute final instance. You should not test before you are completely done with adjusting your model.\n",
        "\n",
        "If you adjust your model after testing, you will start overfitting the test dataset, which will defeat its purpose."
      ]
    },
    {
      "cell_type": "code",
      "metadata": {
        "colab": {
          "base_uri": "https://localhost:8080/"
        },
        "id": "ByrMfJ5e8zQA",
        "outputId": "3f2448f7-062e-4627-f8a2-bdbc470c1e76"
      },
      "source": [
        "test_loss, test_accuracy = model.evaluate(test_data)"
      ],
      "execution_count": 6,
      "outputs": [
        {
          "output_type": "stream",
          "text": [
            "1/1 [==============================] - 1s 1s/step - loss: 0.0806 - accuracy: 0.9765\n"
          ],
          "name": "stdout"
        }
      ]
    },
    {
      "cell_type": "code",
      "metadata": {
        "colab": {
          "base_uri": "https://localhost:8080/"
        },
        "id": "VNeawyDF8zQB",
        "outputId": "43d9a068-1b62-4a27-b11c-64c63c8c313c"
      },
      "source": [
        "# We can apply some nice formatting if we want to\n",
        "print('Test loss: {0:.2f}. Test accuracy: {1:.2f}%'.format(test_loss, test_accuracy*100.))"
      ],
      "execution_count": 7,
      "outputs": [
        {
          "output_type": "stream",
          "text": [
            "Test loss: 0.08. Test accuracy: 97.65%\n"
          ],
          "name": "stdout"
        }
      ]
    }
  ]
}