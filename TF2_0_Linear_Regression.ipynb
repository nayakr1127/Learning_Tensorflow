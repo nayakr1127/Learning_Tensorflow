{
  "nbformat": 4,
  "nbformat_minor": 0,
  "metadata": {
    "colab": {
      "name": "TF2_0_Linear_Regression.ipynb",
      "provenance": [],
      "collapsed_sections": [],
      "include_colab_link": true
    },
    "kernelspec": {
      "name": "python3",
      "display_name": "Python 3"
    }
  },
  "cells": [
    {
      "cell_type": "markdown",
      "metadata": {
        "id": "view-in-github",
        "colab_type": "text"
      },
      "source": [
        "<a href=\"https://colab.research.google.com/github/nayakr1127/Learning_Tensorflow_2.0/blob/main/TF2_0_Linear_Regression.ipynb\" target=\"_parent\"><img src=\"https://colab.research.google.com/assets/colab-badge.svg\" alt=\"Open In Colab\"/></a>"
      ]
    },
    {
      "cell_type": "code",
      "metadata": {
        "id": "N7In-_8aoL2I",
        "colab": {
          "base_uri": "https://localhost:8080/"
        },
        "outputId": "1ce1c5cf-e375-4ac6-a8fb-f8167c7f9799"
      },
      "source": [
        "# Install TensorFlow\n",
        "!pip install -q tensorflow\n",
        "import tensorflow as tf\n",
        "print(tf.__version__)\n",
        "\n",
        "from tensorflow.keras.layers import Input, Dense\n",
        "from tensorflow.keras.callbacks import LearningRateScheduler\n",
        "from tensorflow.keras.models import Model\n",
        "from tensorflow.keras.optimizers import SGD\n"
      ],
      "execution_count": 1,
      "outputs": [
        {
          "output_type": "stream",
          "text": [
            "2.4.1\n"
          ],
          "name": "stdout"
        }
      ]
    },
    {
      "cell_type": "code",
      "metadata": {
        "id": "QncxTFkjoWE3"
      },
      "source": [
        "# Other imports\n",
        "import pandas as pd\n",
        "import numpy as np\n",
        "import matplotlib.pyplot as plt"
      ],
      "execution_count": 2,
      "outputs": []
    },
    {
      "cell_type": "code",
      "metadata": {
        "id": "Czye3VKsoZlQ",
        "colab": {
          "base_uri": "https://localhost:8080/"
        },
        "outputId": "f8c741cd-3afc-475b-d9a1-9ec5871dabd8"
      },
      "source": [
        "# Get data\n",
        "!wget https://raw.githubusercontent.com/lazyprogrammer/machine_learning_examples/master/tf2.0/moore.csv"
      ],
      "execution_count": 3,
      "outputs": [
        {
          "output_type": "stream",
          "text": [
            "--2021-03-06 18:40:07--  https://raw.githubusercontent.com/lazyprogrammer/machine_learning_examples/master/tf2.0/moore.csv\n",
            "Resolving raw.githubusercontent.com (raw.githubusercontent.com)... 185.199.110.133, 185.199.109.133, 185.199.108.133, ...\n",
            "Connecting to raw.githubusercontent.com (raw.githubusercontent.com)|185.199.110.133|:443... connected.\n",
            "HTTP request sent, awaiting response... 200 OK\n",
            "Length: 2302 (2.2K) [text/plain]\n",
            "Saving to: ‘moore.csv’\n",
            "\n",
            "moore.csv           100%[===================>]   2.25K  --.-KB/s    in 0s      \n",
            "\n",
            "2021-03-06 18:40:07 (38.9 MB/s) - ‘moore.csv’ saved [2302/2302]\n",
            "\n"
          ],
          "name": "stdout"
        }
      ]
    },
    {
      "cell_type": "markdown",
      "metadata": {
        "id": "PLt7KKzFoeCG"
      },
      "source": [
        "# Exploratory Data Analysis"
      ]
    },
    {
      "cell_type": "code",
      "metadata": {
        "id": "k7X8Ee_qokTx",
        "colab": {
          "base_uri": "https://localhost:8080/"
        },
        "outputId": "e06378ca-e80c-420e-eddc-7698fe4cfc2e"
      },
      "source": [
        "data = pd.read_csv('moore.csv', header=None).values # Convert to numpy array\r\n",
        "data[:5]"
      ],
      "execution_count": 4,
      "outputs": [
        {
          "output_type": "execute_result",
          "data": {
            "text/plain": [
              "array([[1971, 2300],\n",
              "       [1972, 3500],\n",
              "       [1973, 2500],\n",
              "       [1973, 2500],\n",
              "       [1974, 4100]])"
            ]
          },
          "metadata": {
            "tags": []
          },
          "execution_count": 4
        }
      ]
    },
    {
      "cell_type": "code",
      "metadata": {
        "id": "YhysLZOTomQS"
      },
      "source": [
        "X = data[:,0].reshape(-1, 1) # Dat needs to be N x D instead of vector\n",
        "Y = data[:,1] # Extract vector of targets"
      ],
      "execution_count": 5,
      "outputs": []
    },
    {
      "cell_type": "code",
      "metadata": {
        "id": "tE98ebjBopB0",
        "colab": {
          "base_uri": "https://localhost:8080/"
        },
        "outputId": "daea37d5-5a8d-4c4a-d1ea-20d99fcfac1b"
      },
      "source": [
        "X.shape # N x D matrix, where D = 1"
      ],
      "execution_count": 6,
      "outputs": [
        {
          "output_type": "execute_result",
          "data": {
            "text/plain": [
              "(162, 1)"
            ]
          },
          "metadata": {
            "tags": []
          },
          "execution_count": 6
        }
      ]
    },
    {
      "cell_type": "code",
      "metadata": {
        "id": "p3TjLTgJpO2u",
        "colab": {
          "base_uri": "https://localhost:8080/"
        },
        "outputId": "a6ed1c25-9a95-426e-864a-501af579b649"
      },
      "source": [
        "Y.shape # N size vector, 1 target per data point"
      ],
      "execution_count": 7,
      "outputs": [
        {
          "output_type": "execute_result",
          "data": {
            "text/plain": [
              "(162,)"
            ]
          },
          "metadata": {
            "tags": []
          },
          "execution_count": 7
        }
      ]
    },
    {
      "cell_type": "code",
      "metadata": {
        "id": "C08AfHJ4pPjK",
        "colab": {
          "base_uri": "https://localhost:8080/",
          "height": 314
        },
        "outputId": "fd0346ca-09ae-4d8c-a0a0-ae650a8d5fc3"
      },
      "source": [
        "plt.scatter(X, Y)\n",
        "plt.title(\"Scatter Plot of Number of Transistors vs. Year\")\n",
        "plt.ylabel(\"Number of Transistors\")\n",
        "plt.xlabel(\"Year\")"
      ],
      "execution_count": 8,
      "outputs": [
        {
          "output_type": "execute_result",
          "data": {
            "text/plain": [
              "Text(0.5, 0, 'Year')"
            ]
          },
          "metadata": {
            "tags": []
          },
          "execution_count": 8
        },
        {
          "output_type": "display_data",
          "data": {
            "image/png": "[encoded data removed]",
            "text/plain": [
              "<Figure size 432x288 with 1 Axes>"
            ]
          },
          "metadata": {
            "tags": [],
            "needs_background": "light"
          }
        }
      ]
    },
    {
      "cell_type": "markdown",
      "metadata": {
        "id": "BS60MEc2DWNM"
      },
      "source": [
        "# Data Preprocessing"
      ]
    },
    {
      "cell_type": "code",
      "metadata": {
        "id": "Uxtz5fOipQpN",
        "colab": {
          "base_uri": "https://localhost:8080/",
          "height": 314
        },
        "outputId": "0012ebdf-7582-4fe7-8603-6f24c65bd078"
      },
      "source": [
        "Y = np.log(Y)\n",
        "plt.scatter(X, Y)\n",
        "plt.title(\"Logarithmic Scatter Plot of Number of Transistors vs. Year\")\n",
        "plt.ylabel(\"Logarithm of Number of Transistors\")\n",
        "plt.xlabel(\"Year\")"
      ],
      "execution_count": 9,
      "outputs": [
        {
          "output_type": "execute_result",
          "data": {
            "text/plain": [
              "Text(0.5, 0, 'Year')"
            ]
          },
          "metadata": {
            "tags": []
          },
          "execution_count": 9
        },
        {
          "output_type": "display_data",
          "data": {
            "image/png": "[encoded data removed]",
            "text/plain": [
              "<Figure size 432x288 with 1 Axes>"
            ]
          },
          "metadata": {
            "tags": [],
            "needs_background": "light"
          }
        }
      ]
    },
    {
      "cell_type": "markdown",
      "metadata": {
        "id": "z66MPMhT2dpA"
      },
      "source": [
        "## Scaling Data"
      ]
    },
    {
      "cell_type": "code",
      "metadata": {
        "id": "kb631_Zo2nQu"
      },
      "source": [
        "# Use mean to scale data\n",
        "X = X - X.mean()"
      ],
      "execution_count": 10,
      "outputs": []
    },
    {
      "cell_type": "markdown",
      "metadata": {
        "id": "DxWKLYJ52u8f"
      },
      "source": [
        "# Building Model"
      ]
    },
    {
      "cell_type": "code",
      "metadata": {
        "id": "mOaQAvcA22VR"
      },
      "source": [
        "# Create layers\n",
        "i = Input(shape=(1,)) # Shape of input data is 1-Dimensional numpy array.\n",
        "x = Dense(1)(i) # No activation function because we are doing linear regression\n",
        "\n",
        "model = Model(i, x)\n",
        "\n",
        "# Compile model\n",
        "learning_rate = 0.001\n",
        "momentum = 0.9\n",
        "model.compile(optimizer=SGD(learning_rate, momentum),\n",
        "              loss='mse')\n",
        "\n",
        "# Learning rate scheduler\n",
        "# As we epoch becomes higher, decrease learning rate\n",
        "def schedule(epoch):\n",
        "  if epoch >= 50:\n",
        "    return 0.0001\n",
        "  return 0.001\n",
        "\n",
        "scheduler = LearningRateScheduler(schedule)\n",
        "\n"
      ],
      "execution_count": 11,
      "outputs": []
    },
    {
      "cell_type": "code",
      "metadata": {
        "id": "-n232Hkq3te6",
        "colab": {
          "base_uri": "https://localhost:8080/"
        },
        "outputId": "24284379-7a12-4d52-ae1e-5f26bd61b842"
      },
      "source": [
        "r = model.fit(X, Y,\n",
        "              epochs = 200,\n",
        "              callbacks=[scheduler])"
      ],
      "execution_count": 12,
      "outputs": [
        {
          "output_type": "stream",
          "text": [
            "Epoch 1/200\n",
            "6/6 [==============================] - 1s 2ms/step - loss: 656.2326\n",
            "Epoch 2/200\n",
            "6/6 [==============================] - 0s 2ms/step - loss: 722.7356\n",
            "Epoch 3/200\n",
            "6/6 [==============================] - 0s 2ms/step - loss: 402.1705\n",
            "Epoch 4/200\n",
            "6/6 [==============================] - 0s 2ms/step - loss: 261.8097\n",
            "Epoch 5/200\n",
            "6/6 [==============================] - 0s 2ms/step - loss: 241.4030\n",
            "Epoch 6/200\n",
            "6/6 [==============================] - 0s 2ms/step - loss: 177.6429\n",
            "Epoch 7/200\n",
            "6/6 [==============================] - 0s 1ms/step - loss: 131.5280\n",
            "Epoch 8/200\n",
            "6/6 [==============================] - 0s 2ms/step - loss: 93.5839\n",
            "Epoch 9/200\n",
            "6/6 [==============================] - 0s 3ms/step - loss: 82.9168\n",
            "Epoch 10/200\n",
            "6/6 [==============================] - 0s 2ms/step - loss: 42.2707\n",
            "Epoch 11/200\n",
            "6/6 [==============================] - 0s 2ms/step - loss: 30.6577\n",
            "Epoch 12/200\n",
            "6/6 [==============================] - 0s 2ms/step - loss: 19.1803\n",
            "Epoch 13/200\n",
            "6/6 [==============================] - 0s 2ms/step - loss: 15.6470\n",
            "Epoch 14/200\n",
            "6/6 [==============================] - 0s 2ms/step - loss: 13.8493\n",
            "Epoch 15/200\n",
            "6/6 [==============================] - 0s 2ms/step - loss: 13.9856\n",
            "Epoch 16/200\n",
            "6/6 [==============================] - 0s 2ms/step - loss: 14.4836\n",
            "Epoch 17/200\n",
            "6/6 [==============================] - 0s 2ms/step - loss: 11.2507\n",
            "Epoch 18/200\n",
            "6/6 [==============================] - 0s 2ms/step - loss: 5.0583\n",
            "Epoch 19/200\n",
            "6/6 [==============================] - 0s 2ms/step - loss: 3.2991\n",
            "Epoch 20/200\n",
            "6/6 [==============================] - 0s 2ms/step - loss: 3.9135\n",
            "Epoch 21/200\n",
            "6/6 [==============================] - 0s 2ms/step - loss: 4.3980\n",
            "Epoch 22/200\n",
            "6/6 [==============================] - 0s 2ms/step - loss: 7.8062\n",
            "Epoch 23/200\n",
            "6/6 [==============================] - 0s 4ms/step - loss: 7.7746\n",
            "Epoch 24/200\n",
            "6/6 [==============================] - 0s 2ms/step - loss: 6.4972\n",
            "Epoch 25/200\n",
            "6/6 [==============================] - 0s 2ms/step - loss: 3.3437\n",
            "Epoch 26/200\n",
            "6/6 [==============================] - 0s 2ms/step - loss: 2.0975\n",
            "Epoch 27/200\n",
            "6/6 [==============================] - 0s 2ms/step - loss: 2.0881\n",
            "Epoch 28/200\n",
            "6/6 [==============================] - 0s 2ms/step - loss: 2.6259\n",
            "Epoch 29/200\n",
            "6/6 [==============================] - 0s 2ms/step - loss: 1.2339\n",
            "Epoch 30/200\n",
            "6/6 [==============================] - 0s 2ms/step - loss: 1.1662\n",
            "Epoch 31/200\n",
            "6/6 [==============================] - 0s 2ms/step - loss: 0.9026\n",
            "Epoch 32/200\n",
            "6/6 [==============================] - 0s 2ms/step - loss: 0.9953\n",
            "Epoch 33/200\n",
            "6/6 [==============================] - 0s 2ms/step - loss: 0.9005\n",
            "Epoch 34/200\n",
            "6/6 [==============================] - 0s 2ms/step - loss: 1.1210\n",
            "Epoch 35/200\n",
            "6/6 [==============================] - 0s 2ms/step - loss: 1.5598\n",
            "Epoch 36/200\n",
            "6/6 [==============================] - 0s 2ms/step - loss: 1.7263\n",
            "Epoch 37/200\n",
            "6/6 [==============================] - 0s 2ms/step - loss: 2.0054\n",
            "Epoch 38/200\n",
            "6/6 [==============================] - 0s 2ms/step - loss: 2.0174\n",
            "Epoch 39/200\n",
            "6/6 [==============================] - 0s 2ms/step - loss: 1.0832\n",
            "Epoch 40/200\n",
            "6/6 [==============================] - 0s 2ms/step - loss: 1.0042\n",
            "Epoch 41/200\n",
            "6/6 [==============================] - 0s 2ms/step - loss: 0.6780\n",
            "Epoch 42/200\n",
            "6/6 [==============================] - 0s 2ms/step - loss: 1.4263\n",
            "Epoch 43/200\n",
            "6/6 [==============================] - 0s 2ms/step - loss: 1.4366\n",
            "Epoch 44/200\n",
            "6/6 [==============================] - 0s 2ms/step - loss: 1.0473\n",
            "Epoch 45/200\n",
            "6/6 [==============================] - 0s 2ms/step - loss: 0.8560\n",
            "Epoch 46/200\n",
            "6/6 [==============================] - 0s 2ms/step - loss: 1.0802\n",
            "Epoch 47/200\n",
            "6/6 [==============================] - 0s 2ms/step - loss: 0.8443\n",
            "Epoch 48/200\n",
            "6/6 [==============================] - 0s 2ms/step - loss: 0.7119\n",
            "Epoch 49/200\n",
            "6/6 [==============================] - 0s 2ms/step - loss: 0.8745\n",
            "Epoch 50/200\n",
            "6/6 [==============================] - 0s 2ms/step - loss: 0.9858\n",
            "Epoch 51/200\n",
            "6/6 [==============================] - 0s 2ms/step - loss: 1.0527\n",
            "Epoch 52/200\n",
            "6/6 [==============================] - 0s 2ms/step - loss: 0.8728\n",
            "Epoch 53/200\n",
            "6/6 [==============================] - 0s 2ms/step - loss: 0.9455\n",
            "Epoch 54/200\n",
            "6/6 [==============================] - 0s 2ms/step - loss: 0.8105\n",
            "Epoch 55/200\n",
            "6/6 [==============================] - 0s 2ms/step - loss: 0.7378\n",
            "Epoch 56/200\n",
            "6/6 [==============================] - 0s 2ms/step - loss: 0.8269\n",
            "Epoch 57/200\n",
            "6/6 [==============================] - 0s 2ms/step - loss: 0.7547\n",
            "Epoch 58/200\n",
            "6/6 [==============================] - 0s 2ms/step - loss: 0.6752\n",
            "Epoch 59/200\n",
            "6/6 [==============================] - 0s 2ms/step - loss: 0.8801\n",
            "Epoch 60/200\n",
            "6/6 [==============================] - 0s 2ms/step - loss: 0.9282\n",
            "Epoch 61/200\n",
            "6/6 [==============================] - 0s 1ms/step - loss: 0.7422\n",
            "Epoch 62/200\n",
            "6/6 [==============================] - 0s 1ms/step - loss: 1.1309\n",
            "Epoch 63/200\n",
            "6/6 [==============================] - 0s 2ms/step - loss: 1.0792\n",
            "Epoch 64/200\n",
            "6/6 [==============================] - 0s 2ms/step - loss: 0.8748\n",
            "Epoch 65/200\n",
            "6/6 [==============================] - 0s 2ms/step - loss: 0.9209\n",
            "Epoch 66/200\n",
            "6/6 [==============================] - 0s 2ms/step - loss: 0.9905\n",
            "Epoch 67/200\n",
            "6/6 [==============================] - 0s 2ms/step - loss: 0.9155\n",
            "Epoch 68/200\n",
            "6/6 [==============================] - 0s 2ms/step - loss: 1.1000\n",
            "Epoch 69/200\n",
            "6/6 [==============================] - 0s 2ms/step - loss: 0.7573\n",
            "Epoch 70/200\n",
            "6/6 [==============================] - 0s 2ms/step - loss: 0.9926\n",
            "Epoch 71/200\n",
            "6/6 [==============================] - 0s 4ms/step - loss: 0.8237\n",
            "Epoch 72/200\n",
            "6/6 [==============================] - 0s 2ms/step - loss: 0.9972\n",
            "Epoch 73/200\n",
            "6/6 [==============================] - 0s 2ms/step - loss: 0.9917\n",
            "Epoch 74/200\n",
            "6/6 [==============================] - 0s 2ms/step - loss: 1.0678\n",
            "Epoch 75/200\n",
            "6/6 [==============================] - 0s 2ms/step - loss: 0.9014\n",
            "Epoch 76/200\n",
            "6/6 [==============================] - 0s 2ms/step - loss: 0.8424\n",
            "Epoch 77/200\n",
            "6/6 [==============================] - 0s 2ms/step - loss: 0.6882\n",
            "Epoch 78/200\n",
            "6/6 [==============================] - 0s 2ms/step - loss: 1.0788\n",
            "Epoch 79/200\n",
            "6/6 [==============================] - 0s 2ms/step - loss: 0.7722\n",
            "Epoch 80/200\n",
            "6/6 [==============================] - 0s 2ms/step - loss: 1.0274\n",
            "Epoch 81/200\n",
            "6/6 [==============================] - 0s 2ms/step - loss: 0.6836\n",
            "Epoch 82/200\n",
            "6/6 [==============================] - 0s 2ms/step - loss: 0.8640\n",
            "Epoch 83/200\n",
            "6/6 [==============================] - 0s 2ms/step - loss: 0.8629\n",
            "Epoch 84/200\n",
            "6/6 [==============================] - 0s 2ms/step - loss: 0.6756\n",
            "Epoch 85/200\n",
            "6/6 [==============================] - 0s 2ms/step - loss: 0.9614\n",
            "Epoch 86/200\n",
            "6/6 [==============================] - 0s 2ms/step - loss: 0.8351\n",
            "Epoch 87/200\n",
            "6/6 [==============================] - 0s 2ms/step - loss: 0.8103\n",
            "Epoch 88/200\n",
            "6/6 [==============================] - 0s 2ms/step - loss: 0.7586\n",
            "Epoch 89/200\n",
            "6/6 [==============================] - 0s 3ms/step - loss: 1.0003\n",
            "Epoch 90/200\n",
            "6/6 [==============================] - 0s 2ms/step - loss: 0.9717\n",
            "Epoch 91/200\n",
            "6/6 [==============================] - 0s 3ms/step - loss: 0.8340\n",
            "Epoch 92/200\n",
            "6/6 [==============================] - 0s 3ms/step - loss: 0.9122\n",
            "Epoch 93/200\n",
            "6/6 [==============================] - 0s 3ms/step - loss: 0.8489\n",
            "Epoch 94/200\n",
            "6/6 [==============================] - 0s 2ms/step - loss: 0.8023\n",
            "Epoch 95/200\n",
            "6/6 [==============================] - 0s 3ms/step - loss: 0.8858\n",
            "Epoch 96/200\n",
            "6/6 [==============================] - 0s 2ms/step - loss: 0.9107\n",
            "Epoch 97/200\n",
            "6/6 [==============================] - 0s 2ms/step - loss: 0.7961\n",
            "Epoch 98/200\n",
            "6/6 [==============================] - 0s 2ms/step - loss: 0.8398\n",
            "Epoch 99/200\n",
            "6/6 [==============================] - 0s 3ms/step - loss: 0.7905\n",
            "Epoch 100/200\n",
            "6/6 [==============================] - 0s 1ms/step - loss: 0.7581\n",
            "Epoch 101/200\n",
            "6/6 [==============================] - 0s 2ms/step - loss: 1.0388\n",
            "Epoch 102/200\n",
            "6/6 [==============================] - 0s 3ms/step - loss: 1.1206\n",
            "Epoch 103/200\n",
            "6/6 [==============================] - 0s 4ms/step - loss: 0.8829\n",
            "Epoch 104/200\n",
            "6/6 [==============================] - 0s 2ms/step - loss: 1.0435\n",
            "Epoch 105/200\n",
            "6/6 [==============================] - 0s 2ms/step - loss: 0.7731\n",
            "Epoch 106/200\n",
            "6/6 [==============================] - 0s 2ms/step - loss: 0.7404\n",
            "Epoch 107/200\n",
            "6/6 [==============================] - 0s 2ms/step - loss: 0.7892\n",
            "Epoch 108/200\n",
            "6/6 [==============================] - 0s 2ms/step - loss: 0.7497\n",
            "Epoch 109/200\n",
            "6/6 [==============================] - 0s 2ms/step - loss: 0.7756\n",
            "Epoch 110/200\n",
            "6/6 [==============================] - 0s 2ms/step - loss: 1.0268\n",
            "Epoch 111/200\n",
            "6/6 [==============================] - 0s 2ms/step - loss: 0.9246\n",
            "Epoch 112/200\n",
            "6/6 [==============================] - 0s 2ms/step - loss: 1.1384\n",
            "Epoch 113/200\n",
            "6/6 [==============================] - 0s 2ms/step - loss: 0.7844\n",
            "Epoch 114/200\n",
            "6/6 [==============================] - 0s 2ms/step - loss: 0.9900\n",
            "Epoch 115/200\n",
            "6/6 [==============================] - 0s 2ms/step - loss: 0.8318\n",
            "Epoch 116/200\n",
            "6/6 [==============================] - 0s 2ms/step - loss: 0.8908\n",
            "Epoch 117/200\n",
            "6/6 [==============================] - 0s 3ms/step - loss: 0.9201\n",
            "Epoch 118/200\n",
            "6/6 [==============================] - 0s 3ms/step - loss: 1.0737\n",
            "Epoch 119/200\n",
            "6/6 [==============================] - 0s 3ms/step - loss: 0.8876\n",
            "Epoch 120/200\n",
            "6/6 [==============================] - 0s 2ms/step - loss: 0.8049\n",
            "Epoch 121/200\n",
            "6/6 [==============================] - 0s 2ms/step - loss: 0.9873\n",
            "Epoch 122/200\n",
            "6/6 [==============================] - 0s 2ms/step - loss: 0.8811\n",
            "Epoch 123/200\n",
            "6/6 [==============================] - 0s 2ms/step - loss: 0.8293\n",
            "Epoch 124/200\n",
            "6/6 [==============================] - 0s 2ms/step - loss: 1.1045\n",
            "Epoch 125/200\n",
            "6/6 [==============================] - 0s 2ms/step - loss: 1.0841\n",
            "Epoch 126/200\n",
            "6/6 [==============================] - 0s 2ms/step - loss: 0.7678\n",
            "Epoch 127/200\n",
            "6/6 [==============================] - 0s 2ms/step - loss: 0.8647\n",
            "Epoch 128/200\n",
            "6/6 [==============================] - 0s 2ms/step - loss: 0.9027\n",
            "Epoch 129/200\n",
            "6/6 [==============================] - 0s 2ms/step - loss: 1.0762\n",
            "Epoch 130/200\n",
            "6/6 [==============================] - 0s 2ms/step - loss: 0.7226\n",
            "Epoch 131/200\n",
            "6/6 [==============================] - 0s 2ms/step - loss: 0.9518\n",
            "Epoch 132/200\n",
            "6/6 [==============================] - 0s 2ms/step - loss: 0.9649\n",
            "Epoch 133/200\n",
            "6/6 [==============================] - 0s 2ms/step - loss: 0.8781\n",
            "Epoch 134/200\n",
            "6/6 [==============================] - 0s 2ms/step - loss: 0.8579\n",
            "Epoch 135/200\n",
            "6/6 [==============================] - 0s 2ms/step - loss: 0.8043\n",
            "Epoch 136/200\n",
            "6/6 [==============================] - 0s 6ms/step - loss: 1.0380\n",
            "Epoch 137/200\n",
            "6/6 [==============================] - 0s 2ms/step - loss: 0.6770\n",
            "Epoch 138/200\n",
            "6/6 [==============================] - 0s 2ms/step - loss: 0.7910\n",
            "Epoch 139/200\n",
            "6/6 [==============================] - 0s 3ms/step - loss: 0.9943\n",
            "Epoch 140/200\n",
            "6/6 [==============================] - 0s 3ms/step - loss: 0.8360\n",
            "Epoch 141/200\n",
            "6/6 [==============================] - 0s 2ms/step - loss: 0.8604\n",
            "Epoch 142/200\n",
            "6/6 [==============================] - 0s 2ms/step - loss: 1.0862\n",
            "Epoch 143/200\n",
            "6/6 [==============================] - 0s 3ms/step - loss: 0.8274\n",
            "Epoch 144/200\n",
            "6/6 [==============================] - 0s 2ms/step - loss: 0.9989\n",
            "Epoch 145/200\n",
            "6/6 [==============================] - 0s 2ms/step - loss: 0.6873\n",
            "Epoch 146/200\n",
            "6/6 [==============================] - 0s 4ms/step - loss: 0.8636\n",
            "Epoch 147/200\n",
            "6/6 [==============================] - 0s 2ms/step - loss: 0.8868\n",
            "Epoch 148/200\n",
            "6/6 [==============================] - 0s 5ms/step - loss: 0.8880\n",
            "Epoch 149/200\n",
            "6/6 [==============================] - 0s 3ms/step - loss: 0.7963\n",
            "Epoch 150/200\n",
            "6/6 [==============================] - 0s 2ms/step - loss: 0.8006\n",
            "Epoch 151/200\n",
            "6/6 [==============================] - 0s 2ms/step - loss: 0.8802\n",
            "Epoch 152/200\n",
            "6/6 [==============================] - 0s 3ms/step - loss: 0.9358\n",
            "Epoch 153/200\n",
            "6/6 [==============================] - 0s 3ms/step - loss: 0.8625\n",
            "Epoch 154/200\n",
            "6/6 [==============================] - 0s 2ms/step - loss: 0.9964\n",
            "Epoch 155/200\n",
            "6/6 [==============================] - 0s 5ms/step - loss: 0.8731\n",
            "Epoch 156/200\n",
            "6/6 [==============================] - 0s 2ms/step - loss: 0.8435\n",
            "Epoch 157/200\n",
            "6/6 [==============================] - 0s 4ms/step - loss: 0.8580\n",
            "Epoch 158/200\n",
            "6/6 [==============================] - 0s 5ms/step - loss: 0.8469\n",
            "Epoch 159/200\n",
            "6/6 [==============================] - 0s 3ms/step - loss: 1.1355\n",
            "Epoch 160/200\n",
            "6/6 [==============================] - 0s 3ms/step - loss: 1.0740\n",
            "Epoch 161/200\n",
            "6/6 [==============================] - 0s 2ms/step - loss: 0.9739\n",
            "Epoch 162/200\n",
            "6/6 [==============================] - 0s 2ms/step - loss: 0.9371\n",
            "Epoch 163/200\n",
            "6/6 [==============================] - 0s 2ms/step - loss: 0.8215\n",
            "Epoch 164/200\n",
            "6/6 [==============================] - 0s 2ms/step - loss: 0.9125\n",
            "Epoch 165/200\n",
            "6/6 [==============================] - 0s 2ms/step - loss: 0.8391\n",
            "Epoch 166/200\n",
            "6/6 [==============================] - 0s 2ms/step - loss: 1.0548\n",
            "Epoch 167/200\n",
            "6/6 [==============================] - 0s 2ms/step - loss: 0.8100\n",
            "Epoch 168/200\n",
            "6/6 [==============================] - 0s 2ms/step - loss: 0.8333\n",
            "Epoch 169/200\n",
            "6/6 [==============================] - 0s 3ms/step - loss: 0.8196\n",
            "Epoch 170/200\n",
            "6/6 [==============================] - 0s 2ms/step - loss: 0.7272\n",
            "Epoch 171/200\n",
            "6/6 [==============================] - 0s 2ms/step - loss: 0.9042\n",
            "Epoch 172/200\n",
            "6/6 [==============================] - 0s 2ms/step - loss: 0.7513\n",
            "Epoch 173/200\n",
            "6/6 [==============================] - 0s 2ms/step - loss: 1.1169\n",
            "Epoch 174/200\n",
            "6/6 [==============================] - 0s 2ms/step - loss: 0.9420\n",
            "Epoch 175/200\n",
            "6/6 [==============================] - 0s 2ms/step - loss: 0.8194\n",
            "Epoch 176/200\n",
            "6/6 [==============================] - 0s 2ms/step - loss: 0.8511\n",
            "Epoch 177/200\n",
            "6/6 [==============================] - 0s 2ms/step - loss: 1.0112\n",
            "Epoch 178/200\n",
            "6/6 [==============================] - 0s 2ms/step - loss: 0.7631\n",
            "Epoch 179/200\n",
            "6/6 [==============================] - 0s 2ms/step - loss: 0.9422\n",
            "Epoch 180/200\n",
            "6/6 [==============================] - 0s 2ms/step - loss: 0.7949\n",
            "Epoch 181/200\n",
            "6/6 [==============================] - 0s 3ms/step - loss: 1.0201\n",
            "Epoch 182/200\n",
            "6/6 [==============================] - 0s 2ms/step - loss: 0.7825\n",
            "Epoch 183/200\n",
            "6/6 [==============================] - 0s 2ms/step - loss: 1.0425\n",
            "Epoch 184/200\n",
            "6/6 [==============================] - 0s 2ms/step - loss: 1.0601\n",
            "Epoch 185/200\n",
            "6/6 [==============================] - 0s 2ms/step - loss: 0.7848\n",
            "Epoch 186/200\n",
            "6/6 [==============================] - 0s 2ms/step - loss: 0.9358\n",
            "Epoch 187/200\n",
            "6/6 [==============================] - 0s 2ms/step - loss: 0.8505\n",
            "Epoch 188/200\n",
            "6/6 [==============================] - 0s 2ms/step - loss: 0.7666\n",
            "Epoch 189/200\n",
            "6/6 [==============================] - 0s 2ms/step - loss: 0.7736\n",
            "Epoch 190/200\n",
            "6/6 [==============================] - 0s 2ms/step - loss: 0.8418\n",
            "Epoch 191/200\n",
            "6/6 [==============================] - 0s 2ms/step - loss: 0.8432\n",
            "Epoch 192/200\n",
            "6/6 [==============================] - 0s 2ms/step - loss: 0.8827\n",
            "Epoch 193/200\n",
            "6/6 [==============================] - 0s 2ms/step - loss: 0.8371\n",
            "Epoch 194/200\n",
            "6/6 [==============================] - 0s 2ms/step - loss: 0.9370\n",
            "Epoch 195/200\n",
            "6/6 [==============================] - 0s 2ms/step - loss: 0.9728\n",
            "Epoch 196/200\n",
            "6/6 [==============================] - 0s 2ms/step - loss: 0.9345\n",
            "Epoch 197/200\n",
            "6/6 [==============================] - 0s 2ms/step - loss: 0.9981\n",
            "Epoch 198/200\n",
            "6/6 [==============================] - 0s 2ms/step - loss: 0.9018\n",
            "Epoch 199/200\n",
            "6/6 [==============================] - 0s 2ms/step - loss: 0.9476\n",
            "Epoch 200/200\n",
            "6/6 [==============================] - 0s 2ms/step - loss: 0.8589\n"
          ],
          "name": "stdout"
        }
      ]
    },
    {
      "cell_type": "markdown",
      "metadata": {
        "id": "Q-NgAk-v8bJi"
      },
      "source": [
        "# Model Evaluation"
      ]
    },
    {
      "cell_type": "code",
      "metadata": {
        "id": "MvZEJZ6J5ixa",
        "colab": {
          "base_uri": "https://localhost:8080/",
          "height": 314
        },
        "outputId": "0ea5439e-623e-4849-cda9-92d46ba0ac1a"
      },
      "source": [
        "# Plot the loss\n",
        "plt.plot(r.history['loss'], label='loss')\n",
        "plt.title(\"Loss vs. Epoch\")\n",
        "plt.ylabel('Loss')\n",
        "plt.xlabel('Epoch')"
      ],
      "execution_count": 13,
      "outputs": [
        {
          "output_type": "execute_result",
          "data": {
            "text/plain": [
              "Text(0.5, 0, 'Epoch')"
            ]
          },
          "metadata": {
            "tags": []
          },
          "execution_count": 13
        },
        {
          "output_type": "display_data",
          "data": {
            "image/png": "[encoded data removed]",
            "text/plain": [
              "<Figure size 432x288 with 1 Axes>"
            ]
          },
          "metadata": {
            "tags": [],
            "needs_background": "light"
          }
        }
      ]
    },
    {
      "cell_type": "markdown",
      "metadata": {
        "id": "Z48TxRCs7c5T"
      },
      "source": [
        "## Prove Moore's law right"
      ]
    },
    {
      "cell_type": "code",
      "metadata": {
        "id": "DA-8GRup8uE1",
        "colab": {
          "base_uri": "https://localhost:8080/"
        },
        "outputId": "7d463aef-66d4-4b5e-a2e3-0118524eebb7"
      },
      "source": [
        "# Get weights of first Dense layer\n",
        "print(\"Weights: \", model.layers[1])\n",
        "print(\"Weights and biases: \", model.layers[1].get_weights())"
      ],
      "execution_count": 14,
      "outputs": [
        {
          "output_type": "stream",
          "text": [
            "Weights:  <tensorflow.python.keras.layers.core.Dense object at 0x7f6c218721d0>\n",
            "Weights and biases:  [array([[0.34089088]], dtype=float32), array([17.740845], dtype=float32)]\n"
          ],
          "name": "stdout"
        }
      ]
    },
    {
      "cell_type": "code",
      "metadata": {
        "id": "KCqgHMTi83lE",
        "colab": {
          "base_uri": "https://localhost:8080/"
        },
        "outputId": "3f3eab51-90bb-4844-a12c-d59a8ddfbce3"
      },
      "source": [
        "a = model.layers[1].get_weights()[0][0][0]\n",
        "b = model.layers[1].get_weights()[1][0]\n",
        "print(\"Slope of line: \", a)\n",
        "print(\"Bias of line: \", b)"
      ],
      "execution_count": 15,
      "outputs": [
        {
          "output_type": "stream",
          "text": [
            "Slope of line:  0.34089088\n",
            "Bias of line:  17.740845\n"
          ],
          "name": "stdout"
        }
      ]
    },
    {
      "cell_type": "code",
      "metadata": {
        "id": "05cx9YBt9fd-",
        "colab": {
          "base_uri": "https://localhost:8080/"
        },
        "outputId": "831ce042-7a38-40b4-9633-8557c368b5eb"
      },
      "source": [
        "print(\"Time for transistors to double: \", np.log(2) / a)"
      ],
      "execution_count": 16,
      "outputs": [
        {
          "output_type": "stream",
          "text": [
            "Time for transistors to double:  2.0333403217312216\n"
          ],
          "name": "stdout"
        }
      ]
    },
    {
      "cell_type": "markdown",
      "metadata": {
        "id": "-gahTJYE-JrV"
      },
      "source": [
        "## Making Predictions"
      ]
    },
    {
      "cell_type": "code",
      "metadata": {
        "id": "t7RVTk-eAjIK",
        "colab": {
          "base_uri": "https://localhost:8080/",
          "height": 300
        },
        "outputId": "328eac25-842b-44fe-e898-a2daf85c9e80"
      },
      "source": [
        "Yhat = model.predict(X)\n",
        "plt.plot(X, Yhat, label='Regression')\n",
        "plt.scatter(X, Y)\n",
        "plt.title(\"Number of Transistors vs. Time\")\n",
        "plt.legend()"
      ],
      "execution_count": 17,
      "outputs": [
        {
          "output_type": "execute_result",
          "data": {
            "text/plain": [
              "<matplotlib.legend.Legend at 0x7f6c1d755b50>"
            ]
          },
          "metadata": {
            "tags": []
          },
          "execution_count": 17
        },
        {
          "output_type": "display_data",
          "data": {
            "image/png": "[encoded data removed]",
            "text/plain": [
              "<Figure size 432x288 with 1 Axes>"
            ]
          },
          "metadata": {
            "tags": [],
            "needs_background": "light"
          }
        }
      ]
    },
    {
      "cell_type": "code",
      "metadata": {
        "id": "36YFq4vYAuEG"
      },
      "source": [
        "# The regression line fits the data\n"
      ],
      "execution_count": 18,
      "outputs": []
    },
    {
      "cell_type": "code",
      "metadata": {
        "id": "VLguMzWMCL3i",
        "colab": {
          "base_uri": "https://localhost:8080/"
        },
        "outputId": "130ae109-1841-437a-da88-7b7977a617f1"
      },
      "source": [
        "print(Yhat.shape)"
      ],
      "execution_count": 19,
      "outputs": [
        {
          "output_type": "stream",
          "text": [
            "(162, 1)\n"
          ],
          "name": "stdout"
        }
      ]
    },
    {
      "cell_type": "code",
      "metadata": {
        "id": "TkkLYHzrBysl",
        "colab": {
          "base_uri": "https://localhost:8080/"
        },
        "outputId": "d6aefa51-a011-45eb-f5d6-ca645b7b0039"
      },
      "source": [
        "# Manual Calculations\n",
        "Yhat2 = np.dot(a, X) + b\n",
        "np.allclose(Yhat, Yhat2)"
      ],
      "execution_count": 20,
      "outputs": [
        {
          "output_type": "execute_result",
          "data": {
            "text/plain": [
              "True"
            ]
          },
          "metadata": {
            "tags": []
          },
          "execution_count": 20
        }
      ]
    },
    {
      "cell_type": "code",
      "metadata": {
        "id": "Q8isMMNqCFPX"
      },
      "source": [
        "# So it model did indeed create a linear equation"
      ],
      "execution_count": 21,
      "outputs": []
    },
    {
      "cell_type": "code",
      "metadata": {
        "id": "_WEkp4NuCeoD"
      },
      "source": [
        ""
      ],
      "execution_count": 21,
      "outputs": []
    }
  ]
}