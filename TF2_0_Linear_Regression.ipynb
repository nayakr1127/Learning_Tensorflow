{
  "nbformat": 4,
  "nbformat_minor": 0,
  "metadata": {
    "colab": {
      "name": "TF2_0_Linear_Regression.ipynb",
      "provenance": [],
      "collapsed_sections": [],
      "include_colab_link": true
    },
    "kernelspec": {
      "name": "python3",
      "display_name": "Python 3"
    }
  },
  "cells": [
    {
      "cell_type": "markdown",
      "metadata": {
        "id": "view-in-github",
        "colab_type": "text"
      },
      "source": [
        "<a href=\"https://colab.research.google.com/github/nayakr1127/Learning_Tensorflow_2.0/blob/main/TF2_0_Linear_Regression.ipynb\" target=\"_parent\"><img src=\"https://colab.research.google.com/assets/colab-badge.svg\" alt=\"Open In Colab\"/></a>"
      ]
    },
    {
      "cell_type": "code",
      "metadata": {
        "id": "N7In-_8aoL2I",
        "colab": {
          "base_uri": "https://localhost:8080/"
        },
        "outputId": "c0761eb4-37aa-4cb5-db0e-58ac1fcd1dd8"
      },
      "source": [
        "# Install TensorFlow\n",
        "!pip install -q tensorflow\n",
        "import tensorflow as tf\n",
        "print(tf.__version__)\n",
        "\n",
        "from tensorflow.keras.layers import Input, Dense\n",
        "from tensorflow.keras.callbacks import LearningRateScheduler\n",
        "from tensorflow.keras.models import Model\n",
        "from tensorflow.keras.optimizers import SGD\n"
      ],
      "execution_count": 2,
      "outputs": [
        {
          "output_type": "stream",
          "text": [
            "2.4.1\n"
          ],
          "name": "stdout"
        }
      ]
    },
    {
      "cell_type": "code",
      "metadata": {
        "id": "QncxTFkjoWE3"
      },
      "source": [
        "# Other imports\n",
        "import pandas as pd\n",
        "import numpy as np\n",
        "import matplotlib.pyplot as plt"
      ],
      "execution_count": 3,
      "outputs": []
    },
    {
      "cell_type": "code",
      "metadata": {
        "id": "Czye3VKsoZlQ",
        "colab": {
          "base_uri": "https://localhost:8080/"
        },
        "outputId": "c14c0f2f-4512-444b-af88-8bc32cd8a068"
      },
      "source": [
        "# Get data\n",
        "!wget https://raw.githubusercontent.com/lazyprogrammer/machine_learning_examples/master/tf2.0/moore.csv"
      ],
      "execution_count": 4,
      "outputs": [
        {
          "output_type": "stream",
          "text": [
            "--2021-03-06 11:54:51--  https://raw.githubusercontent.com/lazyprogrammer/machine_learning_examples/master/tf2.0/moore.csv\n",
            "Resolving raw.githubusercontent.com (raw.githubusercontent.com)... 185.199.108.133, 185.199.109.133, 185.199.110.133, ...\n",
            "Connecting to raw.githubusercontent.com (raw.githubusercontent.com)|185.199.108.133|:443... connected.\n",
            "HTTP request sent, awaiting response... 200 OK\n",
            "Length: 2302 (2.2K) [text/plain]\n",
            "Saving to: ‘moore.csv’\n",
            "\n",
            "moore.csv           100%[===================>]   2.25K  --.-KB/s    in 0s      \n",
            "\n",
            "2021-03-06 11:54:51 (33.6 MB/s) - ‘moore.csv’ saved [2302/2302]\n",
            "\n"
          ],
          "name": "stdout"
        }
      ]
    },
    {
      "cell_type": "markdown",
      "metadata": {
        "id": "PLt7KKzFoeCG"
      },
      "source": [
        "# Exploratory Data Analysis"
      ]
    },
    {
      "cell_type": "code",
      "metadata": {
        "id": "k7X8Ee_qokTx",
        "colab": {
          "base_uri": "https://localhost:8080/"
        },
        "outputId": "6fa54feb-78a1-4c40-8c31-c76bcc2f7c89"
      },
      "source": [
        "data = pd.read_csv('moore.csv', header=None).values # Convert to numpy array\r\n",
        "data[:5]"
      ],
      "execution_count": 11,
      "outputs": [
        {
          "output_type": "execute_result",
          "data": {
            "text/plain": [
              "array([[1971, 2300],\n",
              "       [1972, 3500],\n",
              "       [1973, 2500],\n",
              "       [1973, 2500],\n",
              "       [1974, 4100]])"
            ]
          },
          "metadata": {
            "tags": []
          },
          "execution_count": 11
        }
      ]
    },
    {
      "cell_type": "code",
      "metadata": {
        "id": "YhysLZOTomQS"
      },
      "source": [
        "X = data[:,0].reshape(-1, 1) # Dat needs to be N x D instead of vector\n",
        "Y = data[:,1] # Extract vector of targets"
      ],
      "execution_count": 12,
      "outputs": []
    },
    {
      "cell_type": "code",
      "metadata": {
        "id": "tE98ebjBopB0",
        "colab": {
          "base_uri": "https://localhost:8080/"
        },
        "outputId": "0ead6647-142c-4696-c225-89ced728e336"
      },
      "source": [
        "X.shape # N x D matrix, where D = 1"
      ],
      "execution_count": 13,
      "outputs": [
        {
          "output_type": "execute_result",
          "data": {
            "text/plain": [
              "(162, 1)"
            ]
          },
          "metadata": {
            "tags": []
          },
          "execution_count": 13
        }
      ]
    },
    {
      "cell_type": "code",
      "metadata": {
        "id": "p3TjLTgJpO2u",
        "colab": {
          "base_uri": "https://localhost:8080/"
        },
        "outputId": "95f755e4-6041-4f4c-bcb2-518101ea4f00"
      },
      "source": [
        "Y.shape # N size vector, 1 target per data point"
      ],
      "execution_count": 14,
      "outputs": [
        {
          "output_type": "execute_result",
          "data": {
            "text/plain": [
              "(162,)"
            ]
          },
          "metadata": {
            "tags": []
          },
          "execution_count": 14
        }
      ]
    },
    {
      "cell_type": "code",
      "metadata": {
        "id": "C08AfHJ4pPjK",
        "colab": {
          "base_uri": "https://localhost:8080/",
          "height": 314
        },
        "outputId": "cdf8b417-afe0-4ed3-8949-926a86b144b9"
      },
      "source": [
        "plt.scatter(X, Y)\n",
        "plt.title(\"Scatter Plot of Number of Transistors vs. Year\")\n",
        "plt.ylabel(\"Number of Transistors\")\n",
        "plt.xlabel(\"Year\")"
      ],
      "execution_count": 15,
      "outputs": [
        {
          "output_type": "execute_result",
          "data": {
            "text/plain": [
              "Text(0.5, 0, 'Year')"
            ]
          },
          "metadata": {
            "tags": []
          },
          "execution_count": 15
        },
        {
          "output_type": "display_data",
          "data": {
            "image/png": "[encoded data removed]",
            "text/plain": [
              "<Figure size 432x288 with 1 Axes>"
            ]
          },
          "metadata": {
            "tags": [],
            "needs_background": "light"
          }
        }
      ]
    },
    {
      "cell_type": "markdown",
      "metadata": {
        "id": "BS60MEc2DWNM"
      },
      "source": [
        "# Data Preprocessing"
      ]
    },
    {
      "cell_type": "code",
      "metadata": {
        "id": "Uxtz5fOipQpN",
        "colab": {
          "base_uri": "https://localhost:8080/",
          "height": 314
        },
        "outputId": "d487fde7-07b8-4017-9915-c0748b49c725"
      },
      "source": [
        "Y = np.log(Y)\n",
        "plt.scatter(X, Y)\n",
        "plt.title(\"Logarithmic Scatter Plot of Number of Transistors vs. Year\")\n",
        "plt.ylabel(\"Logarithm of Number of Transistors\")\n",
        "plt.xlabel(\"Year\")"
      ],
      "execution_count": 16,
      "outputs": [
        {
          "output_type": "execute_result",
          "data": {
            "text/plain": [
              "Text(0.5, 0, 'Year')"
            ]
          },
          "metadata": {
            "tags": []
          },
          "execution_count": 16
        },
        {
          "output_type": "display_data",
          "data": {
            "image/png": "[encoded data removed]",
            "text/plain": [
              "<Figure size 432x288 with 1 Axes>"
            ]
          },
          "metadata": {
            "tags": [],
            "needs_background": "light"
          }
        }
      ]
    },
    {
      "cell_type": "markdown",
      "metadata": {
        "id": "z66MPMhT2dpA"
      },
      "source": [
        "## Scaling Data"
      ]
    },
    {
      "cell_type": "code",
      "metadata": {
        "id": "kb631_Zo2nQu"
      },
      "source": [
        "# Use mean to scale data\n",
        "X = X - X.mean()"
      ],
      "execution_count": 17,
      "outputs": []
    },
    {
      "cell_type": "markdown",
      "metadata": {
        "id": "DxWKLYJ52u8f"
      },
      "source": [
        "# Building Model"
      ]
    },
    {
      "cell_type": "code",
      "metadata": {
        "id": "mOaQAvcA22VR"
      },
      "source": [
        "# Create layers\n",
        "i = Input(shape=(1,)) # Shape of input data is 1-Dimensional numpy array.\n",
        "x = Dense(1)(i) # No activation function because we are doing linear regression\n",
        "\n",
        "model = Model(i, x)\n",
        "\n",
        "# Compile model\n",
        "learning_rate = 0.001\n",
        "momentum = 0.9\n",
        "model.compile(optimizer=SGD(learning_rate, momentum),\n",
        "              loss='mse')\n",
        "\n",
        "# Learning rate scheduler\n",
        "# As we epoch becomes higher, decrease learning rate\n",
        "def schedule(epoch):\n",
        "  if epoch >= 50:\n",
        "    return 0.0001\n",
        "  return 0.001\n",
        "\n",
        "scheduler = LearningRateScheduler(schedule)\n",
        "\n"
      ],
      "execution_count": 18,
      "outputs": []
    },
    {
      "cell_type": "code",
      "metadata": {
        "id": "-n232Hkq3te6",
        "colab": {
          "base_uri": "https://localhost:8080/"
        },
        "outputId": "37dd61b7-3f65-4efa-fab1-3b6be4c4bb32"
      },
      "source": [
        "r = model.fit(X, Y,\n",
        "              epochs = 200,\n",
        "              callbacks=[scheduler])"
      ],
      "execution_count": 19,
      "outputs": [
        {
          "output_type": "stream",
          "text": [
            "Epoch 1/200\n",
            "6/6 [==============================] - 0s 3ms/step - loss: 412.8665\n",
            "Epoch 2/200\n",
            "6/6 [==============================] - 0s 2ms/step - loss: 366.5581\n",
            "Epoch 3/200\n",
            "6/6 [==============================] - 0s 2ms/step - loss: 247.7792\n",
            "Epoch 4/200\n",
            "6/6 [==============================] - 0s 2ms/step - loss: 286.5244\n",
            "Epoch 5/200\n",
            "6/6 [==============================] - 0s 2ms/step - loss: 208.2451\n",
            "Epoch 6/200\n",
            "6/6 [==============================] - 0s 2ms/step - loss: 179.9368\n",
            "Epoch 7/200\n",
            "6/6 [==============================] - 0s 2ms/step - loss: 118.0879\n",
            "Epoch 8/200\n",
            "6/6 [==============================] - 0s 2ms/step - loss: 149.0458\n",
            "Epoch 9/200\n",
            "6/6 [==============================] - 0s 2ms/step - loss: 178.8022\n",
            "Epoch 10/200\n",
            "6/6 [==============================] - 0s 2ms/step - loss: 113.7535\n",
            "Epoch 11/200\n",
            "6/6 [==============================] - 0s 2ms/step - loss: 57.4563\n",
            "Epoch 12/200\n",
            "6/6 [==============================] - 0s 2ms/step - loss: 21.7380\n",
            "Epoch 13/200\n",
            "6/6 [==============================] - 0s 2ms/step - loss: 38.1371\n",
            "Epoch 14/200\n",
            "6/6 [==============================] - 0s 2ms/step - loss: 47.8144\n",
            "Epoch 15/200\n",
            "6/6 [==============================] - 0s 2ms/step - loss: 45.7001\n",
            "Epoch 16/200\n",
            "6/6 [==============================] - 0s 2ms/step - loss: 13.7120\n",
            "Epoch 17/200\n",
            "6/6 [==============================] - 0s 2ms/step - loss: 8.5157\n",
            "Epoch 18/200\n",
            "6/6 [==============================] - 0s 2ms/step - loss: 5.4515\n",
            "Epoch 19/200\n",
            "6/6 [==============================] - 0s 2ms/step - loss: 4.4674\n",
            "Epoch 20/200\n",
            "6/6 [==============================] - 0s 2ms/step - loss: 2.9114\n",
            "Epoch 21/200\n",
            "6/6 [==============================] - 0s 2ms/step - loss: 2.2939\n",
            "Epoch 22/200\n",
            "6/6 [==============================] - 0s 2ms/step - loss: 1.7194\n",
            "Epoch 23/200\n",
            "6/6 [==============================] - 0s 2ms/step - loss: 1.6168\n",
            "Epoch 24/200\n",
            "6/6 [==============================] - 0s 2ms/step - loss: 2.1710\n",
            "Epoch 25/200\n",
            "6/6 [==============================] - 0s 2ms/step - loss: 1.5414\n",
            "Epoch 26/200\n",
            "6/6 [==============================] - 0s 2ms/step - loss: 1.1549\n",
            "Epoch 27/200\n",
            "6/6 [==============================] - 0s 2ms/step - loss: 1.0243\n",
            "Epoch 28/200\n",
            "6/6 [==============================] - 0s 1ms/step - loss: 0.9503\n",
            "Epoch 29/200\n",
            "6/6 [==============================] - 0s 2ms/step - loss: 0.8983\n",
            "Epoch 30/200\n",
            "6/6 [==============================] - 0s 2ms/step - loss: 1.1374\n",
            "Epoch 31/200\n",
            "6/6 [==============================] - 0s 2ms/step - loss: 1.0179\n",
            "Epoch 32/200\n",
            "6/6 [==============================] - 0s 2ms/step - loss: 0.9509\n",
            "Epoch 33/200\n",
            "6/6 [==============================] - 0s 2ms/step - loss: 1.0162\n",
            "Epoch 34/200\n",
            "6/6 [==============================] - 0s 2ms/step - loss: 0.9821\n",
            "Epoch 35/200\n",
            "6/6 [==============================] - 0s 2ms/step - loss: 0.8025\n",
            "Epoch 36/200\n",
            "6/6 [==============================] - 0s 2ms/step - loss: 1.0513\n",
            "Epoch 37/200\n",
            "6/6 [==============================] - 0s 5ms/step - loss: 1.0684\n",
            "Epoch 38/200\n",
            "6/6 [==============================] - 0s 2ms/step - loss: 1.4123\n",
            "Epoch 39/200\n",
            "6/6 [==============================] - 0s 2ms/step - loss: 1.1094\n",
            "Epoch 40/200\n",
            "6/6 [==============================] - 0s 2ms/step - loss: 1.0234\n",
            "Epoch 41/200\n",
            "6/6 [==============================] - 0s 2ms/step - loss: 1.2058\n",
            "Epoch 42/200\n",
            "6/6 [==============================] - 0s 2ms/step - loss: 1.0757\n",
            "Epoch 43/200\n",
            "6/6 [==============================] - 0s 2ms/step - loss: 0.7563\n",
            "Epoch 44/200\n",
            "6/6 [==============================] - 0s 2ms/step - loss: 2.2124\n",
            "Epoch 45/200\n",
            "6/6 [==============================] - 0s 2ms/step - loss: 1.7512\n",
            "Epoch 46/200\n",
            "6/6 [==============================] - 0s 2ms/step - loss: 1.2548\n",
            "Epoch 47/200\n",
            "6/6 [==============================] - 0s 2ms/step - loss: 1.0655\n",
            "Epoch 48/200\n",
            "6/6 [==============================] - 0s 2ms/step - loss: 1.2179\n",
            "Epoch 49/200\n",
            "6/6 [==============================] - 0s 2ms/step - loss: 1.1702\n",
            "Epoch 50/200\n",
            "6/6 [==============================] - 0s 2ms/step - loss: 0.9258\n",
            "Epoch 51/200\n",
            "6/6 [==============================] - 0s 2ms/step - loss: 0.8129\n",
            "Epoch 52/200\n",
            "6/6 [==============================] - 0s 2ms/step - loss: 0.9885\n",
            "Epoch 53/200\n",
            "6/6 [==============================] - 0s 2ms/step - loss: 1.1136\n",
            "Epoch 54/200\n",
            "6/6 [==============================] - 0s 2ms/step - loss: 0.8138\n",
            "Epoch 55/200\n",
            "6/6 [==============================] - 0s 3ms/step - loss: 0.9998\n",
            "Epoch 56/200\n",
            "6/6 [==============================] - 0s 3ms/step - loss: 0.7213\n",
            "Epoch 57/200\n",
            "6/6 [==============================] - 0s 2ms/step - loss: 0.9186\n",
            "Epoch 58/200\n",
            "6/6 [==============================] - 0s 2ms/step - loss: 0.8309\n",
            "Epoch 59/200\n",
            "6/6 [==============================] - 0s 2ms/step - loss: 0.7441\n",
            "Epoch 60/200\n",
            "6/6 [==============================] - 0s 2ms/step - loss: 0.8628\n",
            "Epoch 61/200\n",
            "6/6 [==============================] - 0s 2ms/step - loss: 0.9932\n",
            "Epoch 62/200\n",
            "6/6 [==============================] - 0s 2ms/step - loss: 0.7082\n",
            "Epoch 63/200\n",
            "6/6 [==============================] - 0s 2ms/step - loss: 0.9696\n",
            "Epoch 64/200\n",
            "6/6 [==============================] - 0s 2ms/step - loss: 1.0913\n",
            "Epoch 65/200\n",
            "6/6 [==============================] - 0s 3ms/step - loss: 0.9476\n",
            "Epoch 66/200\n",
            "6/6 [==============================] - 0s 6ms/step - loss: 0.8107\n",
            "Epoch 67/200\n",
            "6/6 [==============================] - 0s 2ms/step - loss: 0.8175\n",
            "Epoch 68/200\n",
            "6/6 [==============================] - 0s 2ms/step - loss: 0.9683\n",
            "Epoch 69/200\n",
            "6/6 [==============================] - 0s 2ms/step - loss: 1.0042\n",
            "Epoch 70/200\n",
            "6/6 [==============================] - 0s 2ms/step - loss: 0.8796\n",
            "Epoch 71/200\n",
            "6/6 [==============================] - 0s 2ms/step - loss: 1.1336\n",
            "Epoch 72/200\n",
            "6/6 [==============================] - 0s 2ms/step - loss: 0.8652\n",
            "Epoch 73/200\n",
            "6/6 [==============================] - 0s 2ms/step - loss: 0.7551\n",
            "Epoch 74/200\n",
            "6/6 [==============================] - 0s 4ms/step - loss: 0.6878\n",
            "Epoch 75/200\n",
            "6/6 [==============================] - 0s 2ms/step - loss: 0.7698\n",
            "Epoch 76/200\n",
            "6/6 [==============================] - 0s 2ms/step - loss: 0.7281\n",
            "Epoch 77/200\n",
            "6/6 [==============================] - 0s 2ms/step - loss: 0.9483\n",
            "Epoch 78/200\n",
            "6/6 [==============================] - 0s 2ms/step - loss: 0.8423\n",
            "Epoch 79/200\n",
            "6/6 [==============================] - 0s 2ms/step - loss: 0.7441\n",
            "Epoch 80/200\n",
            "6/6 [==============================] - 0s 2ms/step - loss: 0.9310\n",
            "Epoch 81/200\n",
            "6/6 [==============================] - 0s 2ms/step - loss: 0.7996\n",
            "Epoch 82/200\n",
            "6/6 [==============================] - 0s 2ms/step - loss: 0.9191\n",
            "Epoch 83/200\n",
            "6/6 [==============================] - 0s 2ms/step - loss: 0.6926\n",
            "Epoch 84/200\n",
            "6/6 [==============================] - 0s 2ms/step - loss: 0.7565\n",
            "Epoch 85/200\n",
            "6/6 [==============================] - 0s 3ms/step - loss: 0.7787\n",
            "Epoch 86/200\n",
            "6/6 [==============================] - 0s 2ms/step - loss: 0.8373\n",
            "Epoch 87/200\n",
            "6/6 [==============================] - 0s 3ms/step - loss: 0.8113\n",
            "Epoch 88/200\n",
            "6/6 [==============================] - 0s 3ms/step - loss: 0.8143\n",
            "Epoch 89/200\n",
            "6/6 [==============================] - 0s 4ms/step - loss: 0.9015\n",
            "Epoch 90/200\n",
            "6/6 [==============================] - 0s 2ms/step - loss: 1.0421\n",
            "Epoch 91/200\n",
            "6/6 [==============================] - 0s 2ms/step - loss: 1.0202\n",
            "Epoch 92/200\n",
            "6/6 [==============================] - 0s 2ms/step - loss: 0.8533\n",
            "Epoch 93/200\n",
            "6/6 [==============================] - 0s 2ms/step - loss: 1.1010\n",
            "Epoch 94/200\n",
            "6/6 [==============================] - 0s 3ms/step - loss: 0.8921\n",
            "Epoch 95/200\n",
            "6/6 [==============================] - 0s 2ms/step - loss: 0.8487\n",
            "Epoch 96/200\n",
            "6/6 [==============================] - 0s 2ms/step - loss: 0.9198\n",
            "Epoch 97/200\n",
            "6/6 [==============================] - 0s 2ms/step - loss: 0.8425\n",
            "Epoch 98/200\n",
            "6/6 [==============================] - 0s 2ms/step - loss: 0.9440\n",
            "Epoch 99/200\n",
            "6/6 [==============================] - 0s 2ms/step - loss: 0.8109\n",
            "Epoch 100/200\n",
            "6/6 [==============================] - 0s 2ms/step - loss: 1.0569\n",
            "Epoch 101/200\n",
            "6/6 [==============================] - 0s 3ms/step - loss: 0.9191\n",
            "Epoch 102/200\n",
            "6/6 [==============================] - 0s 2ms/step - loss: 0.8677\n",
            "Epoch 103/200\n",
            "6/6 [==============================] - 0s 2ms/step - loss: 0.7907\n",
            "Epoch 104/200\n",
            "6/6 [==============================] - 0s 2ms/step - loss: 1.0515\n",
            "Epoch 105/200\n",
            "6/6 [==============================] - 0s 2ms/step - loss: 0.9749\n",
            "Epoch 106/200\n",
            "6/6 [==============================] - 0s 2ms/step - loss: 0.8470\n",
            "Epoch 107/200\n",
            "6/6 [==============================] - 0s 3ms/step - loss: 0.7602\n",
            "Epoch 108/200\n",
            "6/6 [==============================] - 0s 3ms/step - loss: 0.9568\n",
            "Epoch 109/200\n",
            "6/6 [==============================] - 0s 2ms/step - loss: 0.8565\n",
            "Epoch 110/200\n",
            "6/6 [==============================] - 0s 2ms/step - loss: 0.8139\n",
            "Epoch 111/200\n",
            "6/6 [==============================] - 0s 2ms/step - loss: 0.9778\n",
            "Epoch 112/200\n",
            "6/6 [==============================] - 0s 2ms/step - loss: 0.8566\n",
            "Epoch 113/200\n",
            "6/6 [==============================] - 0s 2ms/step - loss: 0.7413\n",
            "Epoch 114/200\n",
            "6/6 [==============================] - 0s 2ms/step - loss: 0.7888\n",
            "Epoch 115/200\n",
            "6/6 [==============================] - 0s 2ms/step - loss: 0.8009\n",
            "Epoch 116/200\n",
            "6/6 [==============================] - 0s 2ms/step - loss: 0.9317\n",
            "Epoch 117/200\n",
            "6/6 [==============================] - 0s 3ms/step - loss: 0.8830\n",
            "Epoch 118/200\n",
            "6/6 [==============================] - 0s 2ms/step - loss: 0.9353\n",
            "Epoch 119/200\n",
            "6/6 [==============================] - 0s 2ms/step - loss: 0.8362\n",
            "Epoch 120/200\n",
            "6/6 [==============================] - 0s 2ms/step - loss: 1.1640\n",
            "Epoch 121/200\n",
            "6/6 [==============================] - 0s 2ms/step - loss: 0.8390\n",
            "Epoch 122/200\n",
            "6/6 [==============================] - 0s 1ms/step - loss: 0.7880\n",
            "Epoch 123/200\n",
            "6/6 [==============================] - 0s 2ms/step - loss: 0.9798\n",
            "Epoch 124/200\n",
            "6/6 [==============================] - 0s 2ms/step - loss: 0.8538\n",
            "Epoch 125/200\n",
            "6/6 [==============================] - 0s 2ms/step - loss: 0.8126\n",
            "Epoch 126/200\n",
            "6/6 [==============================] - 0s 2ms/step - loss: 0.8084\n",
            "Epoch 127/200\n",
            "6/6 [==============================] - 0s 3ms/step - loss: 0.9488\n",
            "Epoch 128/200\n",
            "6/6 [==============================] - 0s 4ms/step - loss: 0.9140\n",
            "Epoch 129/200\n",
            "6/6 [==============================] - 0s 6ms/step - loss: 0.8112\n",
            "Epoch 130/200\n",
            "6/6 [==============================] - 0s 2ms/step - loss: 0.8897\n",
            "Epoch 131/200\n",
            "6/6 [==============================] - 0s 3ms/step - loss: 0.8476\n",
            "Epoch 132/200\n",
            "6/6 [==============================] - 0s 3ms/step - loss: 0.6945\n",
            "Epoch 133/200\n",
            "6/6 [==============================] - 0s 2ms/step - loss: 0.8144\n",
            "Epoch 134/200\n",
            "6/6 [==============================] - 0s 2ms/step - loss: 0.8777\n",
            "Epoch 135/200\n",
            "6/6 [==============================] - 0s 2ms/step - loss: 0.8731\n",
            "Epoch 136/200\n",
            "6/6 [==============================] - 0s 5ms/step - loss: 0.8871\n",
            "Epoch 137/200\n",
            "6/6 [==============================] - 0s 3ms/step - loss: 0.8309\n",
            "Epoch 138/200\n",
            "6/6 [==============================] - 0s 3ms/step - loss: 0.9834\n",
            "Epoch 139/200\n",
            "6/6 [==============================] - 0s 2ms/step - loss: 0.8440\n",
            "Epoch 140/200\n",
            "6/6 [==============================] - 0s 2ms/step - loss: 0.9828\n",
            "Epoch 141/200\n",
            "6/6 [==============================] - 0s 2ms/step - loss: 0.8640\n",
            "Epoch 142/200\n",
            "6/6 [==============================] - 0s 2ms/step - loss: 1.0401\n",
            "Epoch 143/200\n",
            "6/6 [==============================] - 0s 2ms/step - loss: 0.9972\n",
            "Epoch 144/200\n",
            "6/6 [==============================] - 0s 2ms/step - loss: 0.8286\n",
            "Epoch 145/200\n",
            "6/6 [==============================] - 0s 1ms/step - loss: 0.9659\n",
            "Epoch 146/200\n",
            "6/6 [==============================] - 0s 2ms/step - loss: 0.8557\n",
            "Epoch 147/200\n",
            "6/6 [==============================] - 0s 1ms/step - loss: 0.7020\n",
            "Epoch 148/200\n",
            "6/6 [==============================] - 0s 2ms/step - loss: 0.7347\n",
            "Epoch 149/200\n",
            "6/6 [==============================] - 0s 3ms/step - loss: 0.7552\n",
            "Epoch 150/200\n",
            "6/6 [==============================] - 0s 2ms/step - loss: 1.0461\n",
            "Epoch 151/200\n",
            "6/6 [==============================] - 0s 2ms/step - loss: 0.8429\n",
            "Epoch 152/200\n",
            "6/6 [==============================] - 0s 2ms/step - loss: 0.9351\n",
            "Epoch 153/200\n",
            "6/6 [==============================] - 0s 2ms/step - loss: 0.8423\n",
            "Epoch 154/200\n",
            "6/6 [==============================] - 0s 3ms/step - loss: 0.9963\n",
            "Epoch 155/200\n",
            "6/6 [==============================] - 0s 2ms/step - loss: 0.9157\n",
            "Epoch 156/200\n",
            "6/6 [==============================] - 0s 2ms/step - loss: 1.0066\n",
            "Epoch 157/200\n",
            "6/6 [==============================] - 0s 1ms/step - loss: 0.9121\n",
            "Epoch 158/200\n",
            "6/6 [==============================] - 0s 2ms/step - loss: 0.9346\n",
            "Epoch 159/200\n",
            "6/6 [==============================] - 0s 2ms/step - loss: 0.7945\n",
            "Epoch 160/200\n",
            "6/6 [==============================] - 0s 2ms/step - loss: 0.9763\n",
            "Epoch 161/200\n",
            "6/6 [==============================] - 0s 2ms/step - loss: 1.1012\n",
            "Epoch 162/200\n",
            "6/6 [==============================] - 0s 2ms/step - loss: 1.0356\n",
            "Epoch 163/200\n",
            "6/6 [==============================] - 0s 2ms/step - loss: 0.9906\n",
            "Epoch 164/200\n",
            "6/6 [==============================] - 0s 2ms/step - loss: 0.7835\n",
            "Epoch 165/200\n",
            "6/6 [==============================] - 0s 2ms/step - loss: 0.9934\n",
            "Epoch 166/200\n",
            "6/6 [==============================] - 0s 3ms/step - loss: 0.7903\n",
            "Epoch 167/200\n",
            "6/6 [==============================] - 0s 2ms/step - loss: 0.8269\n",
            "Epoch 168/200\n",
            "6/6 [==============================] - 0s 2ms/step - loss: 0.8424\n",
            "Epoch 169/200\n",
            "6/6 [==============================] - 0s 2ms/step - loss: 1.0725\n",
            "Epoch 170/200\n",
            "6/6 [==============================] - 0s 3ms/step - loss: 0.8754\n",
            "Epoch 171/200\n",
            "6/6 [==============================] - 0s 2ms/step - loss: 0.7523\n",
            "Epoch 172/200\n",
            "6/6 [==============================] - 0s 2ms/step - loss: 0.8199\n",
            "Epoch 173/200\n",
            "6/6 [==============================] - 0s 2ms/step - loss: 1.1832\n",
            "Epoch 174/200\n",
            "6/6 [==============================] - 0s 2ms/step - loss: 0.9626\n",
            "Epoch 175/200\n",
            "6/6 [==============================] - 0s 2ms/step - loss: 0.8193\n",
            "Epoch 176/200\n",
            "6/6 [==============================] - 0s 2ms/step - loss: 0.6817\n",
            "Epoch 177/200\n",
            "6/6 [==============================] - 0s 2ms/step - loss: 0.7235\n",
            "Epoch 178/200\n",
            "6/6 [==============================] - 0s 2ms/step - loss: 0.7935\n",
            "Epoch 179/200\n",
            "6/6 [==============================] - 0s 2ms/step - loss: 0.8213\n",
            "Epoch 180/200\n",
            "6/6 [==============================] - 0s 2ms/step - loss: 0.8055\n",
            "Epoch 181/200\n",
            "6/6 [==============================] - 0s 2ms/step - loss: 0.9282\n",
            "Epoch 182/200\n",
            "6/6 [==============================] - 0s 2ms/step - loss: 1.0145\n",
            "Epoch 183/200\n",
            "6/6 [==============================] - 0s 2ms/step - loss: 0.9181\n",
            "Epoch 184/200\n",
            "6/6 [==============================] - 0s 2ms/step - loss: 0.7424\n",
            "Epoch 185/200\n",
            "6/6 [==============================] - 0s 2ms/step - loss: 0.9679\n",
            "Epoch 186/200\n",
            "6/6 [==============================] - 0s 3ms/step - loss: 1.0889\n",
            "Epoch 187/200\n",
            "6/6 [==============================] - 0s 2ms/step - loss: 0.8656\n",
            "Epoch 188/200\n",
            "6/6 [==============================] - 0s 2ms/step - loss: 0.9011\n",
            "Epoch 189/200\n",
            "6/6 [==============================] - 0s 2ms/step - loss: 0.9292\n",
            "Epoch 190/200\n",
            "6/6 [==============================] - 0s 2ms/step - loss: 0.8030\n",
            "Epoch 191/200\n",
            "6/6 [==============================] - 0s 2ms/step - loss: 0.7433\n",
            "Epoch 192/200\n",
            "6/6 [==============================] - 0s 2ms/step - loss: 1.0011\n",
            "Epoch 193/200\n",
            "6/6 [==============================] - 0s 2ms/step - loss: 0.8244\n",
            "Epoch 194/200\n",
            "6/6 [==============================] - 0s 2ms/step - loss: 0.7810\n",
            "Epoch 195/200\n",
            "6/6 [==============================] - 0s 3ms/step - loss: 0.8487\n",
            "Epoch 196/200\n",
            "6/6 [==============================] - 0s 2ms/step - loss: 0.9887\n",
            "Epoch 197/200\n",
            "6/6 [==============================] - 0s 4ms/step - loss: 1.0897\n",
            "Epoch 198/200\n",
            "6/6 [==============================] - 0s 2ms/step - loss: 0.9197\n",
            "Epoch 199/200\n",
            "6/6 [==============================] - 0s 2ms/step - loss: 0.8701\n",
            "Epoch 200/200\n",
            "6/6 [==============================] - 0s 2ms/step - loss: 0.9664\n"
          ],
          "name": "stdout"
        }
      ]
    },
    {
      "cell_type": "markdown",
      "metadata": {
        "id": "Q-NgAk-v8bJi"
      },
      "source": [
        "# Model Evaluation"
      ]
    },
    {
      "cell_type": "code",
      "metadata": {
        "id": "MvZEJZ6J5ixa",
        "colab": {
          "base_uri": "https://localhost:8080/",
          "height": 314
        },
        "outputId": "03f9fb39-9eff-412c-be27-0e57d62afd5a"
      },
      "source": [
        "# Plot the loss\n",
        "plt.plot(r.history['loss'], label='loss')\n",
        "plt.title(\"Loss vs. Epoch\")\n",
        "plt.ylabel('Loss')\n",
        "plt.xlabel('Epoch')"
      ],
      "execution_count": 20,
      "outputs": [
        {
          "output_type": "execute_result",
          "data": {
            "text/plain": [
              "Text(0.5, 0, 'Epoch')"
            ]
          },
          "metadata": {
            "tags": []
          },
          "execution_count": 20
        },
        {
          "output_type": "display_data",
          "data": {
            "image/png": "[encoded data removed]",
            "text/plain": [
              "<Figure size 432x288 with 1 Axes>"
            ]
          },
          "metadata": {
            "tags": [],
            "needs_background": "light"
          }
        }
      ]
    },
    {
      "cell_type": "markdown",
      "metadata": {
        "id": "Z48TxRCs7c5T"
      },
      "source": [
        "## Prove Moore's law right"
      ]
    },
    {
      "cell_type": "code",
      "metadata": {
        "id": "DA-8GRup8uE1",
        "colab": {
          "base_uri": "https://localhost:8080/"
        },
        "outputId": "5223eefb-84d4-4307-f7b2-221b7f6fbf7e"
      },
      "source": [
        "# Get weights of first Dense layer\n",
        "print(\"Weights: \", model.layers[1])\n",
        "print(\"Weights and biases: \", model.layers[1].get_weights())"
      ],
      "execution_count": 21,
      "outputs": [
        {
          "output_type": "stream",
          "text": [
            "Weights:  <tensorflow.python.keras.layers.core.Dense object at 0x7fa95e100e10>\n",
            "Weights and biases:  [array([[0.33465993]], dtype=float32), array([17.765755], dtype=float32)]\n"
          ],
          "name": "stdout"
        }
      ]
    },
    {
      "cell_type": "code",
      "metadata": {
        "id": "KCqgHMTi83lE",
        "colab": {
          "base_uri": "https://localhost:8080/"
        },
        "outputId": "b7f54261-0363-494c-becf-07f1bec203b2"
      },
      "source": [
        "a = model.layers[1].get_weights()[0][0][0]\n",
        "b = model.layers[1].get_weights()[1][0]\n",
        "print(\"Slope of line: \", a)\n",
        "print(\"Bias of line: \", b)"
      ],
      "execution_count": 22,
      "outputs": [
        {
          "output_type": "stream",
          "text": [
            "Slope of line:  0.33465993\n",
            "Bias of line:  17.765755\n"
          ],
          "name": "stdout"
        }
      ]
    },
    {
      "cell_type": "code",
      "metadata": {
        "id": "05cx9YBt9fd-",
        "colab": {
          "base_uri": "https://localhost:8080/"
        },
        "outputId": "52eaf84a-9bf8-40c8-88ad-4626457e7c6b"
      },
      "source": [
        "print(\"Time for transistors to double: \", np.log(2) / a)"
      ],
      "execution_count": 23,
      "outputs": [
        {
          "output_type": "stream",
          "text": [
            "Time for transistors to double:  2.071198581151493\n"
          ],
          "name": "stdout"
        }
      ]
    },
    {
      "cell_type": "markdown",
      "metadata": {
        "id": "-gahTJYE-JrV"
      },
      "source": [
        "## Making Predictions"
      ]
    },
    {
      "cell_type": "code",
      "metadata": {
        "id": "t7RVTk-eAjIK",
        "colab": {
          "base_uri": "https://localhost:8080/",
          "height": 300
        },
        "outputId": "7c6909ca-3bef-461e-c8c1-15b13246c1c7"
      },
      "source": [
        "Yhat = model.predict(X)\n",
        "plt.plot(X, Yhat, label='Regression')\n",
        "plt.scatter(X, Y)\n",
        "plt.title(\"Number of Transistors vs. Time\")\n",
        "plt.legend()"
      ],
      "execution_count": 24,
      "outputs": [
        {
          "output_type": "execute_result",
          "data": {
            "text/plain": [
              "<matplotlib.legend.Legend at 0x7fa953fc0310>"
            ]
          },
          "metadata": {
            "tags": []
          },
          "execution_count": 24
        },
        {
          "output_type": "display_data",
          "data": {
            "image/png": "[encoded data removed]",
            "text/plain": [
              "<Figure size 432x288 with 1 Axes>"
            ]
          },
          "metadata": {
            "tags": [],
            "needs_background": "light"
          }
        }
      ]
    },
    {
      "cell_type": "code",
      "metadata": {
        "id": "36YFq4vYAuEG"
      },
      "source": [
        "# The regression line fits the data\n"
      ],
      "execution_count": 25,
      "outputs": []
    },
    {
      "cell_type": "code",
      "metadata": {
        "id": "VLguMzWMCL3i",
        "colab": {
          "base_uri": "https://localhost:8080/"
        },
        "outputId": "498e5cb7-280d-4bfd-c810-3151db2241c7"
      },
      "source": [
        "print(Yhat.shape)"
      ],
      "execution_count": 26,
      "outputs": [
        {
          "output_type": "stream",
          "text": [
            "(162, 1)\n"
          ],
          "name": "stdout"
        }
      ]
    },
    {
      "cell_type": "code",
      "metadata": {
        "id": "TkkLYHzrBysl",
        "colab": {
          "base_uri": "https://localhost:8080/"
        },
        "outputId": "dfd775f2-480b-45fd-c4f5-4f1c74d44918"
      },
      "source": [
        "# Manual Calculations\n",
        "Yhat2 = np.dot(a, X) + b\n",
        "np.allclose(Yhat, Yhat2)"
      ],
      "execution_count": 27,
      "outputs": [
        {
          "output_type": "execute_result",
          "data": {
            "text/plain": [
              "True"
            ]
          },
          "metadata": {
            "tags": []
          },
          "execution_count": 27
        }
      ]
    },
    {
      "cell_type": "code",
      "metadata": {
        "id": "Q8isMMNqCFPX"
      },
      "source": [
        "# So it model did indeed create a linear equation"
      ],
      "execution_count": 28,
      "outputs": []
    },
    {
      "cell_type": "code",
      "metadata": {
        "id": "_WEkp4NuCeoD"
      },
      "source": [
        ""
      ],
      "execution_count": null,
      "outputs": []
    }
  ]
}