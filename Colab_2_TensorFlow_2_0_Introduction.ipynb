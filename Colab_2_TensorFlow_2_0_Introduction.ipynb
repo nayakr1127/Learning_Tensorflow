{
  "nbformat": 4,
  "nbformat_minor": 0,
  "metadata": {
    "colab": {
      "name": "Colab_2_TensorFlow_2_0_Introduction.ipynb",
      "provenance": [],
      "collapsed_sections": [],
      "toc_visible": true,
      "include_colab_link": true
    },
    "kernelspec": {
      "name": "python3",
      "display_name": "Python 3"
    }
  },
  "cells": [
    {
      "cell_type": "markdown",
      "metadata": {
        "id": "view-in-github",
        "colab_type": "text"
      },
      "source": [
        "<a href=\"https://colab.research.google.com/github/nayakr1127/Learning_Tensorflow/blob/main/Colab_2_TensorFlow_2_0_Introduction.ipynb\" target=\"_parent\"><img src=\"https://colab.research.google.com/assets/colab-badge.svg\" alt=\"Open In Colab\"/></a>"
      ]
    },
    {
      "cell_type": "markdown",
      "metadata": {
        "id": "wJ6s9hH5gsvW"
      },
      "source": [
        "## TensorFlow 2.0"
      ]
    },
    {
      "cell_type": "markdown",
      "metadata": {
        "id": "Zl7ADLJ_g38A"
      },
      "source": [
        "### Installing TensorFlow 2.0"
      ]
    },
    {
      "cell_type": "code",
      "metadata": {
        "id": "XExgAvb-gkb9"
      },
      "source": [
        "# !pip install tensorflow-gpu==2.0.0-alpha0"
      ],
      "execution_count": 15,
      "outputs": []
    },
    {
      "cell_type": "code",
      "metadata": {
        "id": "ZsQVt3TghDWN"
      },
      "source": [
        "import tensorflow as tf\n",
        "import numpy as np"
      ],
      "execution_count": 16,
      "outputs": []
    },
    {
      "cell_type": "code",
      "metadata": {
        "id": "bjZ7TmxNh3FE",
        "colab": {
          "base_uri": "https://localhost:8080/",
          "height": 35
        },
        "outputId": "aab1b99d-072d-4d0c-c396-a3e6ba03faae"
      },
      "source": [
        "tf.__version__"
      ],
      "execution_count": 17,
      "outputs": [
        {
          "output_type": "execute_result",
          "data": {
            "application/vnd.google.colaboratory.intrinsic+json": {
              "type": "string"
            },
            "text/plain": [
              "'2.4.1'"
            ]
          },
          "metadata": {
            "tags": []
          },
          "execution_count": 17
        }
      ]
    },
    {
      "cell_type": "markdown",
      "metadata": {
        "id": "L3jqjCppiB0x"
      },
      "source": [
        "### Constants"
      ]
    },
    {
      "cell_type": "markdown",
      "metadata": {
        "id": "F58hfumftBPK"
      },
      "source": [
        "#### Defining a constant"
      ]
    },
    {
      "cell_type": "code",
      "metadata": {
        "id": "EL_NS0EDh4U2"
      },
      "source": [
        "# Defining a constant in TensorFlow 2.0\n",
        "tensor_20 = tf.constant([[23, 4], [32, 51]])"
      ],
      "execution_count": 18,
      "outputs": []
    },
    {
      "cell_type": "code",
      "metadata": {
        "id": "zu1SK9N-iLj-",
        "colab": {
          "base_uri": "https://localhost:8080/"
        },
        "outputId": "a5c35eb7-88d6-44fc-a000-b13598cd4fd8"
      },
      "source": [
        "tensor_20"
      ],
      "execution_count": 19,
      "outputs": [
        {
          "output_type": "execute_result",
          "data": {
            "text/plain": [
              "<tf.Tensor: shape=(2, 2), dtype=int32, numpy=\n",
              "array([[23,  4],\n",
              "       [32, 51]], dtype=int32)>"
            ]
          },
          "metadata": {
            "tags": []
          },
          "execution_count": 19
        }
      ]
    },
    {
      "cell_type": "code",
      "metadata": {
        "id": "Pi1hQ7VYiNoP",
        "colab": {
          "base_uri": "https://localhost:8080/"
        },
        "outputId": "dd42d983-4feb-4ef6-d0ae-74a8de55d14f"
      },
      "source": [
        "# Getting the shape of a tensor\n",
        "tensor_20.shape"
      ],
      "execution_count": 20,
      "outputs": [
        {
          "output_type": "execute_result",
          "data": {
            "text/plain": [
              "TensorShape([2, 2])"
            ]
          },
          "metadata": {
            "tags": []
          },
          "execution_count": 20
        }
      ]
    },
    {
      "cell_type": "markdown",
      "metadata": {
        "id": "KfR8I7EOituB"
      },
      "source": [
        "#### Getting the values of a constant"
      ]
    },
    {
      "cell_type": "code",
      "metadata": {
        "id": "C1mt_C-7iV3l",
        "colab": {
          "base_uri": "https://localhost:8080/"
        },
        "outputId": "44fe2b66-987b-4aa6-c6c9-a482b10cf325"
      },
      "source": [
        "# Getting the values straight from a TensorFlow constant with numpy, and without the need of a session\n",
        "tensor_20.numpy()"
      ],
      "execution_count": 21,
      "outputs": [
        {
          "output_type": "execute_result",
          "data": {
            "text/plain": [
              "array([[23,  4],\n",
              "       [32, 51]], dtype=int32)"
            ]
          },
          "metadata": {
            "tags": []
          },
          "execution_count": 21
        }
      ]
    },
    {
      "cell_type": "code",
      "metadata": {
        "id": "4yu4Rvo2igb2"
      },
      "source": [
        "# We are able to convert a numpy array back to a TensorFlow tensor as well\n",
        "numpy_tensor = np.array([[23,  4], [32, 51]])"
      ],
      "execution_count": 22,
      "outputs": []
    },
    {
      "cell_type": "code",
      "metadata": {
        "id": "3uLZ7XAYjOO2"
      },
      "source": [
        "tensor_from_numpy = tf.constant(numpy_tensor)"
      ],
      "execution_count": 23,
      "outputs": []
    },
    {
      "cell_type": "code",
      "metadata": {
        "id": "ltsz-6FrjWDE",
        "colab": {
          "base_uri": "https://localhost:8080/"
        },
        "outputId": "60c1f543-b8d1-412b-c463-6d5b5009794e"
      },
      "source": [
        "tensor_from_numpy"
      ],
      "execution_count": 24,
      "outputs": [
        {
          "output_type": "execute_result",
          "data": {
            "text/plain": [
              "<tf.Tensor: shape=(2, 2), dtype=int64, numpy=\n",
              "array([[23,  4],\n",
              "       [32, 51]])>"
            ]
          },
          "metadata": {
            "tags": []
          },
          "execution_count": 24
        }
      ]
    },
    {
      "cell_type": "markdown",
      "metadata": {
        "id": "uq-atYpaV2mB"
      },
      "source": [
        "### Variables"
      ]
    },
    {
      "cell_type": "markdown",
      "metadata": {
        "id": "SzoCDLwlt8V-"
      },
      "source": [
        "#### Defining a variable"
      ]
    },
    {
      "cell_type": "code",
      "metadata": {
        "id": "INUlB5zoIB90",
        "colab": {
          "base_uri": "https://localhost:8080/"
        },
        "outputId": "4a81bfec-3d80-4a25-c361-1e377d10707e"
      },
      "source": [
        "tf2_variable = tf.Variable([[1., 2., 3.], [4., 5., 6.]])\n",
        "tf2_variable"
      ],
      "execution_count": 25,
      "outputs": [
        {
          "output_type": "execute_result",
          "data": {
            "text/plain": [
              "<tf.Variable 'Variable:0' shape=(2, 3) dtype=float32, numpy=\n",
              "array([[1., 2., 3.],\n",
              "       [4., 5., 6.]], dtype=float32)>"
            ]
          },
          "metadata": {
            "tags": []
          },
          "execution_count": 25
        }
      ]
    },
    {
      "cell_type": "markdown",
      "metadata": {
        "id": "Oqi-QOsMWo7F"
      },
      "source": [
        "#### Getting the values of a variable"
      ]
    },
    {
      "cell_type": "code",
      "metadata": {
        "id": "pCQr70r1IhLF",
        "colab": {
          "base_uri": "https://localhost:8080/"
        },
        "outputId": "8ccff40d-a24d-4aed-a481-48301d139bfb"
      },
      "source": [
        "tf2_variable.numpy()"
      ],
      "execution_count": 26,
      "outputs": [
        {
          "output_type": "execute_result",
          "data": {
            "text/plain": [
              "array([[1., 2., 3.],\n",
              "       [4., 5., 6.]], dtype=float32)"
            ]
          },
          "metadata": {
            "tags": []
          },
          "execution_count": 26
        }
      ]
    },
    {
      "cell_type": "markdown",
      "metadata": {
        "id": "Ka8Tpnk_WvET"
      },
      "source": [
        "#### Changing a specific value in the variable"
      ]
    },
    {
      "cell_type": "code",
      "metadata": {
        "id": "23OsvfbXWtel",
        "colab": {
          "base_uri": "https://localhost:8080/"
        },
        "outputId": "d0ef6c17-d370-4498-d8ef-e63e74148937"
      },
      "source": [
        "tf2_variable[0, 2].assign(100)"
      ],
      "execution_count": 27,
      "outputs": [
        {
          "output_type": "execute_result",
          "data": {
            "text/plain": [
              "<tf.Variable 'UnreadVariable' shape=(2, 3) dtype=float32, numpy=\n",
              "array([[  1.,   2., 100.],\n",
              "       [  4.,   5.,   6.]], dtype=float32)>"
            ]
          },
          "metadata": {
            "tags": []
          },
          "execution_count": 27
        }
      ]
    },
    {
      "cell_type": "code",
      "metadata": {
        "id": "cSj0YvJkXZu8",
        "colab": {
          "base_uri": "https://localhost:8080/"
        },
        "outputId": "a7137cc0-b037-4638-b997-f6e374299f61"
      },
      "source": [
        "tf2_variable"
      ],
      "execution_count": 28,
      "outputs": [
        {
          "output_type": "execute_result",
          "data": {
            "text/plain": [
              "<tf.Variable 'Variable:0' shape=(2, 3) dtype=float32, numpy=\n",
              "array([[  1.,   2., 100.],\n",
              "       [  4.,   5.,   6.]], dtype=float32)>"
            ]
          },
          "metadata": {
            "tags": []
          },
          "execution_count": 28
        }
      ]
    },
    {
      "cell_type": "markdown",
      "metadata": {
        "id": "QdbG1kvXD2O-"
      },
      "source": [
        "### Operations with tensors"
      ]
    },
    {
      "cell_type": "code",
      "metadata": {
        "id": "M8TE6VvuFDXd",
        "colab": {
          "base_uri": "https://localhost:8080/"
        },
        "outputId": "4538c356-984a-42ba-b65f-2ff909c32219"
      },
      "source": [
        "tensor = tf.constant([[1, 2], [3, 4]])\n",
        "tensor"
      ],
      "execution_count": 29,
      "outputs": [
        {
          "output_type": "execute_result",
          "data": {
            "text/plain": [
              "<tf.Tensor: shape=(2, 2), dtype=int32, numpy=\n",
              "array([[1, 2],\n",
              "       [3, 4]], dtype=int32)>"
            ]
          },
          "metadata": {
            "tags": []
          },
          "execution_count": 29
        }
      ]
    },
    {
      "cell_type": "markdown",
      "metadata": {
        "id": "9AelsMJIFYku"
      },
      "source": [
        "#### Addition between a scalar and a tensor"
      ]
    },
    {
      "cell_type": "code",
      "metadata": {
        "id": "nBHn9DTVjW6s",
        "colab": {
          "base_uri": "https://localhost:8080/"
        },
        "outputId": "6c0eb4fb-8cc5-472b-ce34-0b98066b3ef3"
      },
      "source": [
        "tensor + 2"
      ],
      "execution_count": 30,
      "outputs": [
        {
          "output_type": "execute_result",
          "data": {
            "text/plain": [
              "<tf.Tensor: shape=(2, 2), dtype=int32, numpy=\n",
              "array([[3, 4],\n",
              "       [5, 6]], dtype=int32)>"
            ]
          },
          "metadata": {
            "tags": []
          },
          "execution_count": 30
        }
      ]
    },
    {
      "cell_type": "markdown",
      "metadata": {
        "id": "oQY7rduwFfEC"
      },
      "source": [
        "#### Multiplication between a scalar and a tensor"
      ]
    },
    {
      "cell_type": "code",
      "metadata": {
        "id": "WZkzLDnVFBZF",
        "colab": {
          "base_uri": "https://localhost:8080/"
        },
        "outputId": "1d7ef3fe-2fcd-4f9b-dee3-90bcac1e2067"
      },
      "source": [
        "tensor * 5"
      ],
      "execution_count": 31,
      "outputs": [
        {
          "output_type": "execute_result",
          "data": {
            "text/plain": [
              "<tf.Tensor: shape=(2, 2), dtype=int32, numpy=\n",
              "array([[ 5, 10],\n",
              "       [15, 20]], dtype=int32)>"
            ]
          },
          "metadata": {
            "tags": []
          },
          "execution_count": 31
        }
      ]
    },
    {
      "cell_type": "markdown",
      "metadata": {
        "id": "0algGv7HFrUI"
      },
      "source": [
        "#### Using Numpy functions on TensorFlow tensors"
      ]
    },
    {
      "cell_type": "code",
      "metadata": {
        "id": "zTeiyc6HFyIs",
        "colab": {
          "base_uri": "https://localhost:8080/"
        },
        "outputId": "93e68404-a092-439e-860c-6eac86fde254"
      },
      "source": [
        "# Getting the squares of all numbers in a TensorFlow tensor object\n",
        "np.square(tensor)"
      ],
      "execution_count": 32,
      "outputs": [
        {
          "output_type": "execute_result",
          "data": {
            "text/plain": [
              "array([[ 1,  4],\n",
              "       [ 9, 16]], dtype=int32)"
            ]
          },
          "metadata": {
            "tags": []
          },
          "execution_count": 32
        }
      ]
    },
    {
      "cell_type": "code",
      "metadata": {
        "id": "zcR_Z_4vF2wG",
        "colab": {
          "base_uri": "https://localhost:8080/"
        },
        "outputId": "57f85275-3e4f-44c6-ee3c-b81f969df056"
      },
      "source": [
        "# Getting the square root of all numbers in a tensorflow tensor object\n",
        "np.sqrt(tensor)"
      ],
      "execution_count": 33,
      "outputs": [
        {
          "output_type": "execute_result",
          "data": {
            "text/plain": [
              "array([[1.        , 1.41421356],\n",
              "       [1.73205081, 2.        ]])"
            ]
          },
          "metadata": {
            "tags": []
          },
          "execution_count": 33
        }
      ]
    },
    {
      "cell_type": "markdown",
      "metadata": {
        "id": "UL--f1anIMRl"
      },
      "source": [
        "#### Dot product between two tensors"
      ]
    },
    {
      "cell_type": "code",
      "metadata": {
        "id": "6DGgNB--F6Q1",
        "colab": {
          "base_uri": "https://localhost:8080/"
        },
        "outputId": "862697d5-afee-4fa5-8a47-13cf845bb9bd"
      },
      "source": [
        " np.dot(tensor, tensor_20)"
      ],
      "execution_count": 34,
      "outputs": [
        {
          "output_type": "execute_result",
          "data": {
            "text/plain": [
              "array([[ 87, 106],\n",
              "       [197, 216]], dtype=int32)"
            ]
          },
          "metadata": {
            "tags": []
          },
          "execution_count": 34
        }
      ]
    },
    {
      "cell_type": "markdown",
      "metadata": {
        "id": "12dtWEKjXl7l"
      },
      "source": [
        "### Strings in TensorFlow 2.0"
      ]
    },
    {
      "cell_type": "code",
      "metadata": {
        "id": "fXj_Be2bXgdj",
        "colab": {
          "base_uri": "https://localhost:8080/"
        },
        "outputId": "33f47251-b972-4b8b-c7ca-97ac2c100514"
      },
      "source": [
        "tf_string = tf.constant(\"TensorFlow\")\n",
        "tf_string"
      ],
      "execution_count": 35,
      "outputs": [
        {
          "output_type": "execute_result",
          "data": {
            "text/plain": [
              "<tf.Tensor: shape=(), dtype=string, numpy=b'TensorFlow'>"
            ]
          },
          "metadata": {
            "tags": []
          },
          "execution_count": 35
        }
      ]
    },
    {
      "cell_type": "markdown",
      "metadata": {
        "id": "R9VXL59XYPDG"
      },
      "source": [
        "#### Simple string operations"
      ]
    },
    {
      "cell_type": "code",
      "metadata": {
        "id": "_sIYqcC9YjoS",
        "colab": {
          "base_uri": "https://localhost:8080/"
        },
        "outputId": "7bf97945-9b1b-429f-dc66-60c6edd7dfc1"
      },
      "source": [
        "tf.strings.length(tf_string)"
      ],
      "execution_count": 36,
      "outputs": [
        {
          "output_type": "execute_result",
          "data": {
            "text/plain": [
              "<tf.Tensor: shape=(), dtype=int32, numpy=10>"
            ]
          },
          "metadata": {
            "tags": []
          },
          "execution_count": 36
        }
      ]
    },
    {
      "cell_type": "code",
      "metadata": {
        "id": "vxQRhILBYmiH",
        "colab": {
          "base_uri": "https://localhost:8080/"
        },
        "outputId": "a41d700f-9be3-45e4-b8c4-e663edcc27f4"
      },
      "source": [
        "tf.strings.unicode_decode(tf_string, \"UTF8\")"
      ],
      "execution_count": 37,
      "outputs": [
        {
          "output_type": "execute_result",
          "data": {
            "text/plain": [
              "<tf.Tensor: shape=(10,), dtype=int32, numpy=array([ 84, 101, 110, 115, 111, 114,  70, 108, 111, 119], dtype=int32)>"
            ]
          },
          "metadata": {
            "tags": []
          },
          "execution_count": 37
        }
      ]
    },
    {
      "cell_type": "markdown",
      "metadata": {
        "id": "tEjJCCK2ZUzT"
      },
      "source": [
        "#### Storing arrays of strings"
      ]
    },
    {
      "cell_type": "code",
      "metadata": {
        "id": "YHvHvS0DZakV"
      },
      "source": [
        "tf_string_array = tf.constant([\"TensorFlow\", \"Deep Learning\", \"AI\"])"
      ],
      "execution_count": 38,
      "outputs": []
    },
    {
      "cell_type": "code",
      "metadata": {
        "id": "wyFS4E9uZh21",
        "colab": {
          "base_uri": "https://localhost:8080/"
        },
        "outputId": "e8ff508f-d1ae-4a34-aab7-4963a3f65927"
      },
      "source": [
        "# Iterating through the TF string array\n",
        "for string in tf_string_array:\n",
        "  print(string)"
      ],
      "execution_count": 39,
      "outputs": [
        {
          "output_type": "stream",
          "text": [
            "tf.Tensor(b'TensorFlow', shape=(), dtype=string)\n",
            "tf.Tensor(b'Deep Learning', shape=(), dtype=string)\n",
            "tf.Tensor(b'AI', shape=(), dtype=string)\n"
          ],
          "name": "stdout"
        }
      ]
    }
  ]
}